{
 "cells": [
  {
   "cell_type": "markdown",
   "id": "c73b4c39",
   "metadata": {},
   "source": [
    "# User Input"
   ]
  },
  {
   "cell_type": "code",
   "execution_count": 1,
   "id": "1875c3f9",
   "metadata": {
    "ExecuteTime": {
     "end_time": "2023-03-09T07:36:54.870610Z",
     "start_time": "2023-03-09T07:36:41.420196Z"
    }
   },
   "outputs": [
    {
     "name": "stdout",
     "output_type": "stream",
     "text": [
      "50\n"
     ]
    },
    {
     "data": {
      "text/plain": [
       "'50'"
      ]
     },
     "execution_count": 1,
     "metadata": {},
     "output_type": "execute_result"
    }
   ],
   "source": [
    "input()"
   ]
  },
  {
   "cell_type": "code",
   "execution_count": 2,
   "id": "12472a13",
   "metadata": {
    "ExecuteTime": {
     "end_time": "2023-03-09T07:37:54.246628Z",
     "start_time": "2023-03-09T07:37:47.358538Z"
    }
   },
   "outputs": [
    {
     "name": "stdout",
     "output_type": "stream",
     "text": [
      "Enter your age: 18\n"
     ]
    }
   ],
   "source": [
    "age = input('Enter your age: ')"
   ]
  },
  {
   "cell_type": "code",
   "execution_count": 3,
   "id": "9eea4525",
   "metadata": {
    "ExecuteTime": {
     "end_time": "2023-03-09T07:38:00.489999Z",
     "start_time": "2023-03-09T07:38:00.474114Z"
    }
   },
   "outputs": [
    {
     "data": {
      "text/plain": [
       "'18'"
      ]
     },
     "execution_count": 3,
     "metadata": {},
     "output_type": "execute_result"
    }
   ],
   "source": [
    "age"
   ]
  },
  {
   "cell_type": "code",
   "execution_count": 4,
   "id": "c5bef25f",
   "metadata": {
    "ExecuteTime": {
     "end_time": "2023-03-09T07:38:10.344758Z",
     "start_time": "2023-03-09T07:38:10.329756Z"
    }
   },
   "outputs": [
    {
     "data": {
      "text/plain": [
       "str"
      ]
     },
     "execution_count": 4,
     "metadata": {},
     "output_type": "execute_result"
    }
   ],
   "source": [
    "type(age)"
   ]
  },
  {
   "cell_type": "code",
   "execution_count": 5,
   "id": "7d128238",
   "metadata": {
    "ExecuteTime": {
     "end_time": "2023-03-09T07:39:24.169630Z",
     "start_time": "2023-03-09T07:39:21.371737Z"
    }
   },
   "outputs": [
    {
     "name": "stdout",
     "output_type": "stream",
     "text": [
      "Enter your age: 18\n"
     ]
    }
   ],
   "source": [
    "age = int(input('Enter your age: '))"
   ]
  },
  {
   "cell_type": "code",
   "execution_count": 6,
   "id": "ffb85285",
   "metadata": {
    "ExecuteTime": {
     "end_time": "2023-03-09T07:39:26.479073Z",
     "start_time": "2023-03-09T07:39:26.469543Z"
    }
   },
   "outputs": [
    {
     "data": {
      "text/plain": [
       "18"
      ]
     },
     "execution_count": 6,
     "metadata": {},
     "output_type": "execute_result"
    }
   ],
   "source": [
    "age"
   ]
  },
  {
   "cell_type": "code",
   "execution_count": 7,
   "id": "d1dfc76d",
   "metadata": {
    "ExecuteTime": {
     "end_time": "2023-03-09T07:39:32.844270Z",
     "start_time": "2023-03-09T07:39:32.830596Z"
    }
   },
   "outputs": [
    {
     "data": {
      "text/plain": [
       "int"
      ]
     },
     "execution_count": 7,
     "metadata": {},
     "output_type": "execute_result"
    }
   ],
   "source": [
    "type(age)"
   ]
  },
  {
   "cell_type": "markdown",
   "id": "c5ad61e8",
   "metadata": {},
   "source": [
    "# Conditional Statements\n",
    "- if\n",
    "- else\n",
    "- elif"
   ]
  },
  {
   "cell_type": "markdown",
   "id": "d773bccd",
   "metadata": {},
   "source": [
    "- if"
   ]
  },
  {
   "cell_type": "code",
   "execution_count": 9,
   "id": "2319fa88",
   "metadata": {
    "ExecuteTime": {
     "end_time": "2023-03-09T07:45:36.521073Z",
     "start_time": "2023-03-09T07:45:36.505389Z"
    }
   },
   "outputs": [],
   "source": [
    "userid = 'aish'\n",
    "\n",
    "if userid == 'aishm':\n",
    "    print('Grant access')"
   ]
  },
  {
   "cell_type": "code",
   "execution_count": 13,
   "id": "b0139f6b",
   "metadata": {
    "ExecuteTime": {
     "end_time": "2023-03-09T07:48:10.594608Z",
     "start_time": "2023-03-09T07:48:08.128307Z"
    }
   },
   "outputs": [
    {
     "name": "stdout",
     "output_type": "stream",
     "text": [
      "Enter the name: Virat\n",
      "Success\n"
     ]
    }
   ],
   "source": [
    "#Check whether the player is Virat kolhi\n",
    "player = input('Enter the name: ')\n",
    "\n",
    "if player == 'Virat':\n",
    "    print('Success')"
   ]
  },
  {
   "cell_type": "code",
   "execution_count": 16,
   "id": "d81665dc",
   "metadata": {
    "ExecuteTime": {
     "end_time": "2023-03-09T07:50:08.283768Z",
     "start_time": "2023-03-09T07:50:06.614513Z"
    }
   },
   "outputs": [
    {
     "name": "stdout",
     "output_type": "stream",
     "text": [
      "Enter the name: jo\n",
      "player is not virat\n"
     ]
    }
   ],
   "source": [
    "#Check whether the player is Virat kolhi\n",
    "player = input('Enter the name: ')\n",
    "\n",
    "if player == 'Virat':\n",
    "    print('Success')\n",
    "else:\n",
    "    print('player is not virat')"
   ]
  },
  {
   "cell_type": "code",
   "execution_count": 18,
   "id": "64a8930d",
   "metadata": {
    "ExecuteTime": {
     "end_time": "2023-03-09T07:52:46.037810Z",
     "start_time": "2023-03-09T07:52:43.874056Z"
    }
   },
   "outputs": [
    {
     "name": "stdout",
     "output_type": "stream",
     "text": [
      "Enter any number-5\n",
      "Negative\n"
     ]
    }
   ],
   "source": [
    "#Check whether the number is positive/negative\n",
    "number = int(input('Enter any number'))\n",
    "\n",
    "if number > 0:\n",
    "    print('Positive')\n",
    "else:\n",
    "    print('Negative')"
   ]
  },
  {
   "cell_type": "code",
   "execution_count": 21,
   "id": "02ab90d3",
   "metadata": {
    "ExecuteTime": {
     "end_time": "2023-03-09T07:54:20.609457Z",
     "start_time": "2023-03-09T07:54:18.732342Z"
    }
   },
   "outputs": [
    {
     "name": "stdout",
     "output_type": "stream",
     "text": [
      "Number: 9\n",
      "Odd number\n"
     ]
    }
   ],
   "source": [
    "#Check whether the number is odd or even\n",
    "\n",
    "num = int(input('Number: '))\n",
    "\n",
    "if num%2==0:\n",
    "    print('Number is Even')\n",
    "else:\n",
    "    print('Odd number')"
   ]
  },
  {
   "cell_type": "code",
   "execution_count": 24,
   "id": "f7b02a40",
   "metadata": {
    "ExecuteTime": {
     "end_time": "2023-03-09T07:58:30.024465Z",
     "start_time": "2023-03-09T07:58:28.326166Z"
    }
   },
   "outputs": [
    {
     "name": "stdout",
     "output_type": "stream",
     "text": [
      "Enter age: 18\n",
      "You are eligible\n"
     ]
    }
   ],
   "source": [
    "#Write python program which tell whether the person is eligible to do vote.\n",
    "\n",
    "age = int(input('Enter age: '))\n",
    "\n",
    "if age >= 18:\n",
    "    print('You are eligible')\n",
    "else:\n",
    "    print('You need to wait for more', 18-age,' years')"
   ]
  },
  {
   "cell_type": "markdown",
   "id": "7a3b62aa",
   "metadata": {
    "ExecuteTime": {
     "end_time": "2023-03-04T05:09:22.046040Z",
     "start_time": "2023-03-04T05:09:22.032172Z"
    }
   },
   "source": [
    "- elif"
   ]
  },
  {
   "cell_type": "code",
   "execution_count": 31,
   "id": "8563d6ed",
   "metadata": {
    "ExecuteTime": {
     "end_time": "2023-03-09T08:02:32.328192Z",
     "start_time": "2023-03-09T08:02:31.341700Z"
    }
   },
   "outputs": [
    {
     "name": "stdout",
     "output_type": "stream",
     "text": [
      "Enter any number: 5\n",
      "Number is positive\n"
     ]
    }
   ],
   "source": [
    "#Check whether the number is positive/negative/zero\n",
    "\n",
    "number = int(input('Enter any number: '))\n",
    "\n",
    "if number > 0:\n",
    "    print('Number is positive')\n",
    "elif number == 0:\n",
    "    print('Zero')\n",
    "else:\n",
    "    print('Negative')"
   ]
  },
  {
   "cell_type": "code",
   "execution_count": 34,
   "id": "f21c4a2f",
   "metadata": {
    "ExecuteTime": {
     "end_time": "2023-03-09T08:06:26.311299Z",
     "start_time": "2023-03-09T08:06:14.378112Z"
    }
   },
   "outputs": [
    {
     "name": "stdout",
     "output_type": "stream",
     "text": [
      "Enter marks: 55\n",
      "D\n"
     ]
    }
   ],
   "source": [
    "# Give grades based on percentages\n",
    "#A : marks >85\n",
    "#B : marks < 85 and >70\n",
    "#C : makrs <70 and > 60\n",
    "#D \n",
    "\n",
    "marks = int(input('Enter marks: '))\n",
    "\n",
    "if marks > 85:\n",
    "    print('A')\n",
    "elif (marks < 85) and (marks >70):\n",
    "    print('B')\n",
    "elif (marks <70) and (marks >60):\n",
    "    print('C')\n",
    "else:\n",
    "    print('D')"
   ]
  },
  {
   "cell_type": "markdown",
   "id": "72b1ca58",
   "metadata": {},
   "source": [
    "# In-Class Exercise:\n",
    "\n",
    "1. Write a program which will print Century if the player has made more than 100 runs else it should write how many more runs he needs to have to complete the century.\n",
    "2. Write a program to check the number is one digited, two digited and three digited.\n",
    "3. Write a program to check whether the user has entered number 99 or not."
   ]
  },
  {
   "cell_type": "code",
   "execution_count": null,
   "id": "79bb1428",
   "metadata": {},
   "outputs": [],
   "source": []
  },
  {
   "cell_type": "code",
   "execution_count": null,
   "id": "2a821e61",
   "metadata": {},
   "outputs": [],
   "source": []
  }
 ],
 "metadata": {
  "kernelspec": {
   "display_name": "Python 3 (ipykernel)",
   "language": "python",
   "name": "python3"
  },
  "language_info": {
   "codemirror_mode": {
    "name": "ipython",
    "version": 3
   },
   "file_extension": ".py",
   "mimetype": "text/x-python",
   "name": "python",
   "nbconvert_exporter": "python",
   "pygments_lexer": "ipython3",
   "version": "3.9.13"
  }
 },
 "nbformat": 4,
 "nbformat_minor": 5
}
