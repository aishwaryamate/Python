{
 "cells": [
  {
   "cell_type": "markdown",
   "id": "e4b949d4",
   "metadata": {},
   "source": [
    "# Functions\n",
    "- In python, there are two types of function.\n",
    "    - Built-in funtions\n",
    "    - User defined function\n",
    "- We can create our own customized functions in python for code reusability."
   ]
  },
  {
   "cell_type": "code",
   "execution_count": 1,
   "id": "c03cfde8",
   "metadata": {
    "ExecuteTime": {
     "end_time": "2023-03-09T08:37:53.648308Z",
     "start_time": "2023-03-09T08:37:53.624690Z"
    }
   },
   "outputs": [],
   "source": [
    "#Basic Function"
   ]
  },
  {
   "cell_type": "code",
   "execution_count": 2,
   "id": "44fe4a3f",
   "metadata": {
    "ExecuteTime": {
     "end_time": "2023-03-09T08:37:53.663896Z",
     "start_time": "2023-03-09T08:37:53.650815Z"
    }
   },
   "outputs": [],
   "source": [
    "def simple_function():\n",
    "    print('This is my first function')"
   ]
  },
  {
   "cell_type": "code",
   "execution_count": 3,
   "id": "77be4f62",
   "metadata": {
    "ExecuteTime": {
     "end_time": "2023-03-09T08:37:53.679818Z",
     "start_time": "2023-03-09T08:37:53.666976Z"
    }
   },
   "outputs": [
    {
     "name": "stdout",
     "output_type": "stream",
     "text": [
      "This is my first function\n"
     ]
    }
   ],
   "source": [
    "simple_function()"
   ]
  },
  {
   "cell_type": "code",
   "execution_count": 4,
   "id": "b442d6bc",
   "metadata": {
    "ExecuteTime": {
     "end_time": "2023-03-09T08:37:53.695398Z",
     "start_time": "2023-03-09T08:37:53.687391Z"
    }
   },
   "outputs": [],
   "source": [
    "def func():\n",
    "    print('First')\n",
    "    print('Second')"
   ]
  },
  {
   "cell_type": "code",
   "execution_count": 5,
   "id": "ce3201c6",
   "metadata": {
    "ExecuteTime": {
     "end_time": "2023-03-09T08:37:53.711178Z",
     "start_time": "2023-03-09T08:37:53.699028Z"
    }
   },
   "outputs": [
    {
     "name": "stdout",
     "output_type": "stream",
     "text": [
      "First\n",
      "Second\n"
     ]
    }
   ],
   "source": [
    "func()"
   ]
  },
  {
   "cell_type": "code",
   "execution_count": 6,
   "id": "e2770230",
   "metadata": {
    "ExecuteTime": {
     "end_time": "2023-03-09T08:37:53.726360Z",
     "start_time": "2023-03-09T08:37:53.714176Z"
    }
   },
   "outputs": [
    {
     "name": "stdout",
     "output_type": "stream",
     "text": [
      "\n"
     ]
    }
   ],
   "source": [
    "print()"
   ]
  },
  {
   "cell_type": "code",
   "execution_count": 7,
   "id": "c96b8c93",
   "metadata": {
    "ExecuteTime": {
     "end_time": "2023-03-09T08:37:53.757445Z",
     "start_time": "2023-03-09T08:37:53.729071Z"
    }
   },
   "outputs": [],
   "source": [
    "#Docstring"
   ]
  },
  {
   "cell_type": "code",
   "execution_count": 8,
   "id": "a50ef5a0",
   "metadata": {
    "ExecuteTime": {
     "end_time": "2023-03-09T08:37:53.773372Z",
     "start_time": "2023-03-09T08:37:53.761564Z"
    }
   },
   "outputs": [],
   "source": [
    "def function():\n",
    "    '''This function will print number 18'''\n",
    "    print(18)"
   ]
  },
  {
   "cell_type": "code",
   "execution_count": 9,
   "id": "1b90c78c",
   "metadata": {
    "ExecuteTime": {
     "end_time": "2023-03-09T08:37:53.789058Z",
     "start_time": "2023-03-09T08:37:53.777021Z"
    }
   },
   "outputs": [
    {
     "name": "stdout",
     "output_type": "stream",
     "text": [
      "18\n"
     ]
    }
   ],
   "source": [
    "function()"
   ]
  },
  {
   "cell_type": "code",
   "execution_count": 10,
   "id": "fc10f05f",
   "metadata": {
    "ExecuteTime": {
     "end_time": "2023-03-09T08:37:53.804404Z",
     "start_time": "2023-03-09T08:37:53.794628Z"
    }
   },
   "outputs": [],
   "source": [
    "#Write a python function which will return me the maximum number\n",
    "def max_number(x,y):\n",
    "    if x >y:\n",
    "        print(x)"
   ]
  },
  {
   "cell_type": "code",
   "execution_count": 11,
   "id": "8a269a9a",
   "metadata": {
    "ExecuteTime": {
     "end_time": "2023-03-09T08:37:53.820326Z",
     "start_time": "2023-03-09T08:37:53.807137Z"
    }
   },
   "outputs": [
    {
     "name": "stdout",
     "output_type": "stream",
     "text": [
      "10\n"
     ]
    }
   ],
   "source": [
    "max_number(10,5)"
   ]
  },
  {
   "cell_type": "code",
   "execution_count": 12,
   "id": "003384b1",
   "metadata": {
    "ExecuteTime": {
     "end_time": "2023-03-09T08:37:53.836380Z",
     "start_time": "2023-03-09T08:37:53.824654Z"
    }
   },
   "outputs": [],
   "source": [
    "#*args"
   ]
  },
  {
   "cell_type": "code",
   "execution_count": 13,
   "id": "5fbfe8d0",
   "metadata": {
    "ExecuteTime": {
     "end_time": "2023-03-09T08:37:53.851764Z",
     "start_time": "2023-03-09T08:37:53.838539Z"
    }
   },
   "outputs": [],
   "source": [
    "def max_number(*args):\n",
    "    print(max(args))"
   ]
  },
  {
   "cell_type": "code",
   "execution_count": 14,
   "id": "bad7bd8b",
   "metadata": {
    "ExecuteTime": {
     "end_time": "2023-03-09T08:37:53.867079Z",
     "start_time": "2023-03-09T08:37:53.854763Z"
    }
   },
   "outputs": [
    {
     "name": "stdout",
     "output_type": "stream",
     "text": [
      "200\n"
     ]
    }
   ],
   "source": [
    "max_number(10,50,32,56,52,200)"
   ]
  },
  {
   "cell_type": "markdown",
   "id": "603cc120",
   "metadata": {},
   "source": [
    "# Loops\n",
    "1. While loop\n",
    "2. For loop"
   ]
  },
  {
   "cell_type": "code",
   "execution_count": 19,
   "id": "9fcf2c15",
   "metadata": {
    "ExecuteTime": {
     "end_time": "2023-03-09T08:38:53.692011Z",
     "start_time": "2023-03-09T08:38:53.679406Z"
    },
    "scrolled": false
   },
   "outputs": [
    {
     "name": "stdout",
     "output_type": "stream",
     "text": [
      "1\n",
      "2\n",
      "3\n",
      "4\n",
      "5\n",
      "6\n",
      "7\n",
      "8\n",
      "9\n"
     ]
    }
   ],
   "source": [
    "#While Loop\n",
    "i = 1\n",
    "\n",
    "while i < 10:\n",
    "    print(i)\n",
    "    i = i+1"
   ]
  },
  {
   "cell_type": "code",
   "execution_count": 23,
   "id": "ec0d9c0d",
   "metadata": {
    "ExecuteTime": {
     "end_time": "2023-03-09T08:41:10.059983Z",
     "start_time": "2023-03-09T08:41:10.046394Z"
    }
   },
   "outputs": [
    {
     "data": {
      "text/plain": [
       "range(0, 31, 2)"
      ]
     },
     "execution_count": 23,
     "metadata": {},
     "output_type": "execute_result"
    }
   ],
   "source": [
    "#range function\n",
    "r = range(0,31,2)\n",
    "r"
   ]
  },
  {
   "cell_type": "code",
   "execution_count": 24,
   "id": "bb2ae0b3",
   "metadata": {
    "ExecuteTime": {
     "end_time": "2023-03-09T08:41:10.638443Z",
     "start_time": "2023-03-09T08:41:10.620706Z"
    }
   },
   "outputs": [
    {
     "data": {
      "text/plain": [
       "[0, 2, 4, 6, 8, 10, 12, 14, 16, 18, 20, 22, 24, 26, 28, 30]"
      ]
     },
     "execution_count": 24,
     "metadata": {},
     "output_type": "execute_result"
    }
   ],
   "source": [
    "list(r)"
   ]
  },
  {
   "cell_type": "code",
   "execution_count": null,
   "id": "d4d45a83",
   "metadata": {
    "ExecuteTime": {
     "end_time": "2023-03-09T08:37:53.903542Z",
     "start_time": "2023-03-09T08:37:53.903542Z"
    }
   },
   "outputs": [],
   "source": [
    "#For loop"
   ]
  },
  {
   "cell_type": "code",
   "execution_count": 25,
   "id": "ac96a16e",
   "metadata": {
    "ExecuteTime": {
     "end_time": "2023-03-09T08:44:06.083018Z",
     "start_time": "2023-03-09T08:44:06.065840Z"
    }
   },
   "outputs": [
    {
     "name": "stdout",
     "output_type": "stream",
     "text": [
      "1\n",
      "2\n",
      "3\n",
      "4\n",
      "5\n",
      "6\n",
      "7\n",
      "8\n",
      "9\n",
      "10\n"
     ]
    }
   ],
   "source": [
    "for i in range(1,11):\n",
    "    print(i)"
   ]
  },
  {
   "cell_type": "code",
   "execution_count": 27,
   "id": "a983629c",
   "metadata": {
    "ExecuteTime": {
     "end_time": "2023-03-09T08:45:43.329098Z",
     "start_time": "2023-03-09T08:45:43.318730Z"
    }
   },
   "outputs": [
    {
     "name": "stdout",
     "output_type": "stream",
     "text": [
      "Number was even\n",
      "1\n",
      "Number was even\n",
      "3\n",
      "Number was even\n",
      "5\n",
      "Number was even\n",
      "7\n",
      "Number was even\n",
      "9\n",
      "Number was even\n",
      "11\n",
      "Number was even\n",
      "13\n",
      "Number was even\n",
      "15\n",
      "Number was even\n",
      "17\n",
      "Number was even\n",
      "19\n",
      "Number was even\n",
      "21\n",
      "Number was even\n",
      "23\n",
      "Number was even\n",
      "25\n",
      "Number was even\n",
      "27\n",
      "Number was even\n",
      "29\n",
      "Number was even\n",
      "31\n",
      "Number was even\n",
      "33\n",
      "Number was even\n",
      "35\n",
      "Number was even\n",
      "37\n",
      "Number was even\n",
      "39\n",
      "Number was even\n",
      "41\n",
      "Number was even\n",
      "43\n",
      "Number was even\n",
      "45\n",
      "Number was even\n",
      "47\n",
      "Number was even\n",
      "49\n"
     ]
    }
   ],
   "source": [
    "for i in range(0,50):\n",
    "    if i%2==1:\n",
    "        print(i)\n",
    "    else:\n",
    "        print('Number was even')"
   ]
  },
  {
   "cell_type": "code",
   "execution_count": 28,
   "id": "e55b50f3",
   "metadata": {
    "ExecuteTime": {
     "end_time": "2023-03-09T08:46:23.871967Z",
     "start_time": "2023-03-09T08:46:23.865657Z"
    }
   },
   "outputs": [],
   "source": [
    "#Company list\n",
    "company = ['amazon','flipkart','excelr']"
   ]
  },
  {
   "cell_type": "code",
   "execution_count": 29,
   "id": "77bd1973",
   "metadata": {
    "ExecuteTime": {
     "end_time": "2023-03-09T08:46:56.955218Z",
     "start_time": "2023-03-09T08:46:56.948655Z"
    }
   },
   "outputs": [
    {
     "name": "stdout",
     "output_type": "stream",
     "text": [
      "amazon\n",
      "flipkart\n",
      "excelr\n"
     ]
    }
   ],
   "source": [
    "for i in company:\n",
    "    print(i)"
   ]
  },
  {
   "cell_type": "code",
   "execution_count": 30,
   "id": "b3893ac1",
   "metadata": {
    "ExecuteTime": {
     "end_time": "2023-03-09T08:48:31.205934Z",
     "start_time": "2023-03-09T08:48:31.185773Z"
    }
   },
   "outputs": [
    {
     "name": "stdout",
     "output_type": "stream",
     "text": [
      "www.amazon.com\n",
      "www.flipkart.com\n",
      "www.excelr.com\n"
     ]
    }
   ],
   "source": [
    "for i in company:\n",
    "    print('www.'+i+'.com')"
   ]
  },
  {
   "cell_type": "code",
   "execution_count": 32,
   "id": "88d750ca",
   "metadata": {
    "ExecuteTime": {
     "end_time": "2023-03-09T08:51:26.158024Z",
     "start_time": "2023-03-09T08:51:26.148206Z"
    }
   },
   "outputs": [
    {
     "name": "stdout",
     "output_type": "stream",
     "text": [
      "1\n",
      "4\n",
      "9\n",
      "16\n",
      "25\n",
      "36\n",
      "49\n",
      "64\n",
      "81\n",
      "100\n"
     ]
    }
   ],
   "source": [
    "#Print square of all the number in the range of 1,10\n",
    "\n",
    "for i in range(1,11):\n",
    "    print(i**2)"
   ]
  },
  {
   "cell_type": "code",
   "execution_count": 33,
   "id": "7c1519aa",
   "metadata": {
    "ExecuteTime": {
     "end_time": "2023-03-09T08:52:50.733139Z",
     "start_time": "2023-03-09T08:52:50.718782Z"
    }
   },
   "outputs": [],
   "source": [
    "#Store all the even numbers and odd number is separate lists\n",
    "even = []\n",
    "odd = []\n",
    "\n",
    "for i in range(1,20):\n",
    "    if i%2==0:\n",
    "        even.append(i)\n",
    "    else:\n",
    "        odd.append(i)"
   ]
  },
  {
   "cell_type": "code",
   "execution_count": 34,
   "id": "889d770f",
   "metadata": {
    "ExecuteTime": {
     "end_time": "2023-03-09T08:52:53.993301Z",
     "start_time": "2023-03-09T08:52:53.971989Z"
    }
   },
   "outputs": [
    {
     "data": {
      "text/plain": [
       "[2, 4, 6, 8, 10, 12, 14, 16, 18]"
      ]
     },
     "execution_count": 34,
     "metadata": {},
     "output_type": "execute_result"
    }
   ],
   "source": [
    "even"
   ]
  },
  {
   "cell_type": "code",
   "execution_count": 35,
   "id": "7522a3fc",
   "metadata": {
    "ExecuteTime": {
     "end_time": "2023-03-09T08:52:58.616106Z",
     "start_time": "2023-03-09T08:52:58.596371Z"
    }
   },
   "outputs": [
    {
     "data": {
      "text/plain": [
       "[1, 3, 5, 7, 9, 11, 13, 15, 17, 19]"
      ]
     },
     "execution_count": 35,
     "metadata": {},
     "output_type": "execute_result"
    }
   ],
   "source": [
    "odd"
   ]
  },
  {
   "cell_type": "markdown",
   "id": "4f712923",
   "metadata": {},
   "source": [
    "# In-Class Activity:\n",
    "\n",
    "1. Write a program to store all names which starts with 'A' in a list.\n",
    "2. Take a list of numbers and add 5 to each number.\n",
    "3. Create a list of marks and print only marks > 75."
   ]
  },
  {
   "cell_type": "code",
   "execution_count": null,
   "id": "25a64994",
   "metadata": {
    "ExecuteTime": {
     "end_time": "2023-03-04T05:41:19.978724Z",
     "start_time": "2023-03-04T05:41:19.958113Z"
    }
   },
   "outputs": [],
   "source": []
  },
  {
   "cell_type": "code",
   "execution_count": null,
   "id": "f1878f58",
   "metadata": {
    "ExecuteTime": {
     "end_time": "2023-03-04T05:41:33.394340Z",
     "start_time": "2023-03-04T05:41:33.383341Z"
    }
   },
   "outputs": [],
   "source": []
  },
  {
   "cell_type": "code",
   "execution_count": null,
   "id": "be4d5f20",
   "metadata": {
    "ExecuteTime": {
     "end_time": "2023-03-04T05:42:35.920414Z",
     "start_time": "2023-03-04T05:42:35.906374Z"
    }
   },
   "outputs": [],
   "source": []
  },
  {
   "cell_type": "code",
   "execution_count": null,
   "id": "77f3a4b0",
   "metadata": {
    "ExecuteTime": {
     "end_time": "2023-03-04T05:42:49.033068Z",
     "start_time": "2023-03-04T05:42:49.010728Z"
    }
   },
   "outputs": [],
   "source": []
  },
  {
   "cell_type": "code",
   "execution_count": null,
   "id": "e56a57cb",
   "metadata": {
    "ExecuteTime": {
     "end_time": "2023-03-04T05:45:14.668385Z",
     "start_time": "2023-03-04T05:45:14.659746Z"
    }
   },
   "outputs": [],
   "source": []
  },
  {
   "cell_type": "code",
   "execution_count": null,
   "id": "1d2b8abf",
   "metadata": {
    "ExecuteTime": {
     "end_time": "2023-03-04T05:45:46.727167Z",
     "start_time": "2023-03-04T05:45:46.716223Z"
    }
   },
   "outputs": [],
   "source": []
  },
  {
   "cell_type": "code",
   "execution_count": null,
   "id": "8bffc7eb",
   "metadata": {},
   "outputs": [],
   "source": []
  }
 ],
 "metadata": {
  "kernelspec": {
   "display_name": "Python 3 (ipykernel)",
   "language": "python",
   "name": "python3"
  },
  "language_info": {
   "codemirror_mode": {
    "name": "ipython",
    "version": 3
   },
   "file_extension": ".py",
   "mimetype": "text/x-python",
   "name": "python",
   "nbconvert_exporter": "python",
   "pygments_lexer": "ipython3",
   "version": "3.9.13"
  }
 },
 "nbformat": 4,
 "nbformat_minor": 5
}
