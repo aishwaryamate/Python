{
 "cells": [
  {
   "cell_type": "code",
   "execution_count": null,
   "id": "9dc7dd63-3563-4466-9824-d539f0b317c4",
   "metadata": {},
   "outputs": [],
   "source": [
    "import pandas as pd\n",
    "import matplotlib.pyplot as plt\n",
    "import seaborn as sns"
   ]
  },
  {
   "cell_type": "code",
   "execution_count": null,
   "id": "60cc6af4-ca47-45af-be5c-dfc0685cec6d",
   "metadata": {},
   "outputs": [],
   "source": [
    "df = pd.read_excel('Employees.xlsx')\n",
    "df.head()"
   ]
  },
  {
   "cell_type": "code",
   "execution_count": null,
   "id": "a6f7ddb0-3af7-4897-96a8-c84feb9d2ccf",
   "metadata": {},
   "outputs": [],
   "source": [
    "df.isna().sum()"
   ]
  },
  {
   "cell_type": "markdown",
   "id": "bc2f385e-ef5f-4265-91b8-222b87438b44",
   "metadata": {},
   "source": [
    "# Data Visualization\n",
    "1. Barplot\n",
    "2. Histogram\n",
    "3. Scatterplot\n",
    "4. Piechart"
   ]
  },
  {
   "cell_type": "markdown",
   "id": "673ad062-d104-4b52-ab37-c2efce24ccc2",
   "metadata": {},
   "source": [
    "# 1. Barplot"
   ]
  },
  {
   "cell_type": "code",
   "execution_count": null,
   "id": "b3124365-328b-476e-9a7c-d1702e6decd2",
   "metadata": {},
   "outputs": [],
   "source": [
    "df.head()"
   ]
  },
  {
   "cell_type": "code",
   "execution_count": null,
   "id": "83c0a089-cc64-4d7e-abef-d546369b4d5d",
   "metadata": {},
   "outputs": [],
   "source": [
    "sns.countplot(df['Center'])"
   ]
  },
  {
   "cell_type": "markdown",
   "id": "50211c19-c350-4070-8343-2553ceedb92a",
   "metadata": {},
   "source": [
    "# Set graph parameters"
   ]
  },
  {
   "cell_type": "code",
   "execution_count": null,
   "id": "2d40cfe9-9e44-453e-904d-d3c0230a6dc2",
   "metadata": {},
   "outputs": [],
   "source": [
    "plt.rcParams['figure.figsize'] = (10,5)\n",
    "plt.rcParams['figure.dpi'] = 120\n",
    "sns.set_theme(style='darkgrid', palette='viridis')"
   ]
  },
  {
   "cell_type": "code",
   "execution_count": null,
   "id": "868c3d2c-cff1-4aaa-8a4b-0734140c2b9f",
   "metadata": {},
   "outputs": [],
   "source": [
    "sns.countplot(df['Center'])"
   ]
  },
  {
   "cell_type": "code",
   "execution_count": null,
   "id": "687e8d0a-e86d-47db-b5f7-fbcb40f66e4e",
   "metadata": {},
   "outputs": [],
   "source": [
    "sns.countplot(df['Country'], palette='rainbow')"
   ]
  },
  {
   "cell_type": "code",
   "execution_count": null,
   "id": "11862758-36b0-4ba8-9801-6d1295b07a8b",
   "metadata": {},
   "outputs": [],
   "source": [
    "sns.countplot(x = df['Years'])"
   ]
  },
  {
   "cell_type": "markdown",
   "id": "22be858b-5acd-46ba-8e66-aad8ef8f2919",
   "metadata": {},
   "source": [
    "# 2. Histogram"
   ]
  },
  {
   "cell_type": "code",
   "execution_count": null,
   "id": "967d4150-342d-4fa4-8733-e1142b1f6db3",
   "metadata": {},
   "outputs": [],
   "source": [
    "df.head()"
   ]
  },
  {
   "cell_type": "code",
   "execution_count": null,
   "id": "598d1f86-386a-4075-af13-b03e9cc0ef06",
   "metadata": {},
   "outputs": [],
   "source": [
    "sns.histplot(df['Monthly Salary'])"
   ]
  },
  {
   "cell_type": "code",
   "execution_count": null,
   "id": "6028a7b3-4058-4578-b9e7-ad337bff1c0e",
   "metadata": {},
   "outputs": [],
   "source": [
    "sns.histplot(df['Annual Salary'])"
   ]
  },
  {
   "cell_type": "markdown",
   "id": "3632f19f-0374-4016-9609-d3ae32411a9a",
   "metadata": {},
   "source": [
    "# Scatterplot"
   ]
  },
  {
   "cell_type": "code",
   "execution_count": null,
   "id": "3807b7ae-c1b9-4b12-8513-1d92c598d42b",
   "metadata": {},
   "outputs": [],
   "source": [
    "sns.scatterplot(x = df['Annual Salary'], y = df['Monthly Salary'])"
   ]
  },
  {
   "cell_type": "code",
   "execution_count": null,
   "id": "0378614d-a473-442e-b4fd-be5f4a61cabb",
   "metadata": {},
   "outputs": [],
   "source": [
    "sns.scatterplot(x = df['Annual Salary'], y = df['Overtime Hours'])"
   ]
  },
  {
   "cell_type": "markdown",
   "id": "b7c7cde9-b76e-49ca-8299-0472a63adfef",
   "metadata": {},
   "source": [
    "# PieChart"
   ]
  },
  {
   "cell_type": "code",
   "execution_count": null,
   "id": "c0b20be6-9296-47b0-b58e-4c2b2a9d9f72",
   "metadata": {},
   "outputs": [],
   "source": [
    "df.head()"
   ]
  },
  {
   "cell_type": "code",
   "execution_count": null,
   "id": "93033a71-f1bd-4a9c-95f4-48a09206ada4",
   "metadata": {},
   "outputs": [],
   "source": [
    "gender_values = df['Gender'].value_counts()\n",
    "gender_values"
   ]
  },
  {
   "cell_type": "code",
   "execution_count": null,
   "id": "1242506f-485e-47e9-bd8c-1c00625cf3e3",
   "metadata": {},
   "outputs": [],
   "source": [
    "plt.pie(gender_values, autopct='%0.2f%%', pctdistance=1.2)"
   ]
  },
  {
   "cell_type": "code",
   "execution_count": null,
   "id": "3010189a-e02c-48fa-89fc-0dd8b3f72c05",
   "metadata": {},
   "outputs": [],
   "source": [
    "gender_label = ['Male','Female']\n",
    "\n",
    "plt.pie(gender_values, autopct='%0.2f%%', pctdistance=1.2)\n",
    "plt.legend(gender_label, loc = 'upper right')"
   ]
  },
  {
   "cell_type": "code",
   "execution_count": null,
   "id": "e33bad0e-e642-4e81-bdff-39390c6175ee",
   "metadata": {},
   "outputs": [],
   "source": [
    "country = df['Country'].value_counts()\n",
    "country_labels = df['Country'].unique()\n",
    "\n",
    "plt.figure(figsize=(15,10))\n",
    "plt.pie(dept, autopct='%0.2f%%')\n",
    "plt.legend(country_labels, loc = 'upper right')\n"
   ]
  },
  {
   "cell_type": "code",
   "execution_count": null,
   "id": "a431d074-c475-4624-8b47-cc0ed4a6284c",
   "metadata": {},
   "outputs": [],
   "source": []
  }
 ],
 "metadata": {
  "kernelspec": {
   "display_name": "Python 3 (ipykernel)",
   "language": "python",
   "name": "python3"
  },
  "language_info": {
   "codemirror_mode": {
    "name": "ipython",
    "version": 3
   },
   "file_extension": ".py",
   "mimetype": "text/x-python",
   "name": "python",
   "nbconvert_exporter": "python",
   "pygments_lexer": "ipython3",
   "version": "3.12.4"
  }
 },
 "nbformat": 4,
 "nbformat_minor": 5
}
