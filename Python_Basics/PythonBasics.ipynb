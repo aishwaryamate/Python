{
 "cells": [
  {
   "cell_type": "markdown",
   "id": "e4d1a026",
   "metadata": {},
   "source": [
    "# Basic Operations in Python"
   ]
  },
  {
   "cell_type": "code",
   "execution_count": 1,
   "id": "2b985c75",
   "metadata": {
    "ExecuteTime": {
     "end_time": "2023-01-31T12:04:00.926982Z",
     "start_time": "2023-01-31T12:04:00.886358Z"
    }
   },
   "outputs": [
    {
     "data": {
      "text/plain": [
       "10"
      ]
     },
     "execution_count": 1,
     "metadata": {},
     "output_type": "execute_result"
    }
   ],
   "source": [
    "#variable\n",
    "10"
   ]
  },
  {
   "cell_type": "code",
   "execution_count": null,
   "id": "e74d253f",
   "metadata": {
    "ExecuteTime": {
     "end_time": "2023-01-30T16:28:25.807355Z",
     "start_time": "2023-01-30T16:28:25.795121Z"
    }
   },
   "outputs": [],
   "source": [
    "#Arithmetic operators (+,-,*,/,%)"
   ]
  },
  {
   "cell_type": "code",
   "execution_count": 2,
   "id": "60a25df8",
   "metadata": {
    "ExecuteTime": {
     "end_time": "2023-01-31T12:05:20.233288Z",
     "start_time": "2023-01-31T12:05:20.213145Z"
    }
   },
   "outputs": [],
   "source": [
    "a = 10"
   ]
  },
  {
   "cell_type": "code",
   "execution_count": 3,
   "id": "eea24328",
   "metadata": {
    "ExecuteTime": {
     "end_time": "2023-01-31T12:05:39.010060Z",
     "start_time": "2023-01-31T12:05:38.997801Z"
    }
   },
   "outputs": [
    {
     "data": {
      "text/plain": [
       "10"
      ]
     },
     "execution_count": 3,
     "metadata": {},
     "output_type": "execute_result"
    }
   ],
   "source": [
    "a"
   ]
  },
  {
   "cell_type": "code",
   "execution_count": 4,
   "id": "2170ef19",
   "metadata": {
    "ExecuteTime": {
     "end_time": "2023-01-31T12:06:49.785511Z",
     "start_time": "2023-01-31T12:06:49.770906Z"
    }
   },
   "outputs": [
    {
     "data": {
      "text/plain": [
       "30"
      ]
     },
     "execution_count": 4,
     "metadata": {},
     "output_type": "execute_result"
    }
   ],
   "source": [
    "a + 20"
   ]
  },
  {
   "cell_type": "code",
   "execution_count": 6,
   "id": "2cad6aeb",
   "metadata": {
    "ExecuteTime": {
     "end_time": "2023-01-31T12:07:13.226607Z",
     "start_time": "2023-01-31T12:07:13.212600Z"
    }
   },
   "outputs": [
    {
     "data": {
      "text/plain": [
       "30"
      ]
     },
     "execution_count": 6,
     "metadata": {},
     "output_type": "execute_result"
    }
   ],
   "source": [
    "b = a + 20\n",
    "b"
   ]
  },
  {
   "cell_type": "code",
   "execution_count": 7,
   "id": "b9482fb8",
   "metadata": {
    "ExecuteTime": {
     "end_time": "2023-01-31T12:07:27.878648Z",
     "start_time": "2023-01-31T12:07:27.869821Z"
    }
   },
   "outputs": [
    {
     "data": {
      "text/plain": [
       "0.2"
      ]
     },
     "execution_count": 7,
     "metadata": {},
     "output_type": "execute_result"
    }
   ],
   "source": [
    "a = 2\n",
    "b = 10\n",
    "\n",
    "a/b"
   ]
  },
  {
   "cell_type": "code",
   "execution_count": 8,
   "id": "e0febe9d",
   "metadata": {
    "ExecuteTime": {
     "end_time": "2023-01-31T12:07:33.722873Z",
     "start_time": "2023-01-31T12:07:33.709998Z"
    }
   },
   "outputs": [
    {
     "data": {
      "text/plain": [
       "2"
      ]
     },
     "execution_count": 8,
     "metadata": {},
     "output_type": "execute_result"
    }
   ],
   "source": [
    "a%b"
   ]
  },
  {
   "cell_type": "code",
   "execution_count": 9,
   "id": "fe3c4944",
   "metadata": {
    "ExecuteTime": {
     "end_time": "2023-01-31T12:08:53.838176Z",
     "start_time": "2023-01-31T12:08:53.818915Z"
    }
   },
   "outputs": [
    {
     "data": {
      "text/plain": [
       "int"
      ]
     },
     "execution_count": 9,
     "metadata": {},
     "output_type": "execute_result"
    }
   ],
   "source": [
    "type(a)"
   ]
  },
  {
   "cell_type": "code",
   "execution_count": 12,
   "id": "664c2728",
   "metadata": {
    "ExecuteTime": {
     "end_time": "2023-01-31T12:10:55.687615Z",
     "start_time": "2023-01-31T12:10:55.671576Z"
    }
   },
   "outputs": [
    {
     "data": {
      "text/plain": [
       "52"
      ]
     },
     "execution_count": 12,
     "metadata": {},
     "output_type": "execute_result"
    }
   ],
   "source": [
    "#Single line comment\n",
    "#This is first line\n",
    "# this is second line\n",
    "\n",
    "\n",
    "a + 50"
   ]
  },
  {
   "cell_type": "code",
   "execution_count": 13,
   "id": "159d6f1b",
   "metadata": {
    "ExecuteTime": {
     "end_time": "2023-01-31T12:11:40.227556Z",
     "start_time": "2023-01-31T12:11:40.210506Z"
    }
   },
   "outputs": [
    {
     "data": {
      "text/plain": [
       "'This is first line\\nThis is second line'"
      ]
     },
     "execution_count": 13,
     "metadata": {},
     "output_type": "execute_result"
    }
   ],
   "source": [
    "#Multi-line comment\n",
    "'''This is first line\n",
    "This is second line'''"
   ]
  },
  {
   "cell_type": "markdown",
   "id": "72a732b2",
   "metadata": {},
   "source": [
    "# Data types in python\n",
    "1. Integer\n",
    "2. Float\n",
    "3. String\n",
    "4. Boolean"
   ]
  },
  {
   "cell_type": "code",
   "execution_count": 14,
   "id": "85545b8e",
   "metadata": {
    "ExecuteTime": {
     "end_time": "2023-01-31T12:13:31.743018Z",
     "start_time": "2023-01-31T12:13:31.725794Z"
    }
   },
   "outputs": [
    {
     "data": {
      "text/plain": [
       "int"
      ]
     },
     "execution_count": 14,
     "metadata": {},
     "output_type": "execute_result"
    }
   ],
   "source": [
    "#Integer\n",
    "a = 10\n",
    "type(a)"
   ]
  },
  {
   "cell_type": "code",
   "execution_count": 15,
   "id": "bdc54922",
   "metadata": {
    "ExecuteTime": {
     "end_time": "2023-01-31T12:13:47.343850Z",
     "start_time": "2023-01-31T12:13:47.335098Z"
    }
   },
   "outputs": [
    {
     "data": {
      "text/plain": [
       "float"
      ]
     },
     "execution_count": 15,
     "metadata": {},
     "output_type": "execute_result"
    }
   ],
   "source": [
    "b = 50.2\n",
    "type(b)"
   ]
  },
  {
   "cell_type": "code",
   "execution_count": 18,
   "id": "9b89cdbe",
   "metadata": {
    "ExecuteTime": {
     "end_time": "2023-01-31T12:15:00.249970Z",
     "start_time": "2023-01-31T12:15:00.241348Z"
    }
   },
   "outputs": [
    {
     "data": {
      "text/plain": [
       "'This is python'"
      ]
     },
     "execution_count": 18,
     "metadata": {},
     "output_type": "execute_result"
    }
   ],
   "source": [
    "s = 'This is python'\n",
    "s"
   ]
  },
  {
   "cell_type": "code",
   "execution_count": 19,
   "id": "95adac3a",
   "metadata": {
    "ExecuteTime": {
     "end_time": "2023-01-31T12:15:09.033589Z",
     "start_time": "2023-01-31T12:15:09.022606Z"
    }
   },
   "outputs": [
    {
     "data": {
      "text/plain": [
       "str"
      ]
     },
     "execution_count": 19,
     "metadata": {},
     "output_type": "execute_result"
    }
   ],
   "source": [
    "type(s)"
   ]
  },
  {
   "cell_type": "code",
   "execution_count": 22,
   "id": "6e6af3e1",
   "metadata": {
    "ExecuteTime": {
     "end_time": "2023-01-31T12:16:38.328358Z",
     "start_time": "2023-01-31T12:16:38.310313Z"
    }
   },
   "outputs": [],
   "source": [
    "b = True"
   ]
  },
  {
   "cell_type": "code",
   "execution_count": 23,
   "id": "2591c116",
   "metadata": {
    "ExecuteTime": {
     "end_time": "2023-01-31T12:16:45.167324Z",
     "start_time": "2023-01-31T12:16:45.159015Z"
    }
   },
   "outputs": [
    {
     "data": {
      "text/plain": [
       "bool"
      ]
     },
     "execution_count": 23,
     "metadata": {},
     "output_type": "execute_result"
    }
   ],
   "source": [
    "type(b)"
   ]
  },
  {
   "cell_type": "markdown",
   "id": "6c46cfad",
   "metadata": {},
   "source": [
    "# Typecasting\n",
    "\n",
    "- Typecasting is used to change the data types."
   ]
  },
  {
   "cell_type": "code",
   "execution_count": 28,
   "id": "99f56053",
   "metadata": {
    "ExecuteTime": {
     "end_time": "2023-01-31T12:21:35.462306Z",
     "start_time": "2023-01-31T12:21:35.438060Z"
    }
   },
   "outputs": [
    {
     "data": {
      "text/plain": [
       "int"
      ]
     },
     "execution_count": 28,
     "metadata": {},
     "output_type": "execute_result"
    }
   ],
   "source": [
    "x = 10\n",
    "type(x)"
   ]
  },
  {
   "cell_type": "code",
   "execution_count": 30,
   "id": "af76e562",
   "metadata": {
    "ExecuteTime": {
     "end_time": "2023-01-31T12:21:49.176809Z",
     "start_time": "2023-01-31T12:21:49.157138Z"
    }
   },
   "outputs": [
    {
     "data": {
      "text/plain": [
       "float"
      ]
     },
     "execution_count": 30,
     "metadata": {},
     "output_type": "execute_result"
    }
   ],
   "source": [
    "x = float(x)\n",
    "type(x)"
   ]
  },
  {
   "cell_type": "code",
   "execution_count": 27,
   "id": "f2fcb76c",
   "metadata": {
    "ExecuteTime": {
     "end_time": "2023-01-31T12:20:21.017882Z",
     "start_time": "2023-01-31T12:20:21.008432Z"
    }
   },
   "outputs": [
    {
     "data": {
      "text/plain": [
       "'10.0'"
      ]
     },
     "execution_count": 27,
     "metadata": {},
     "output_type": "execute_result"
    }
   ],
   "source": [
    "str(x)"
   ]
  },
  {
   "cell_type": "code",
   "execution_count": 31,
   "id": "4f7ad132",
   "metadata": {
    "ExecuteTime": {
     "end_time": "2023-01-31T12:21:50.949508Z",
     "start_time": "2023-01-31T12:21:50.933163Z"
    }
   },
   "outputs": [
    {
     "data": {
      "text/plain": [
       "float"
      ]
     },
     "execution_count": 31,
     "metadata": {},
     "output_type": "execute_result"
    }
   ],
   "source": [
    "type(x)"
   ]
  },
  {
   "cell_type": "code",
   "execution_count": 36,
   "id": "660cab1c",
   "metadata": {
    "ExecuteTime": {
     "end_time": "2023-01-31T12:23:39.327217Z",
     "start_time": "2023-01-31T12:23:39.315553Z"
    }
   },
   "outputs": [
    {
     "data": {
      "text/plain": [
       "int"
      ]
     },
     "execution_count": 36,
     "metadata": {},
     "output_type": "execute_result"
    }
   ],
   "source": [
    "a = 500\n",
    "type(a)"
   ]
  },
  {
   "cell_type": "code",
   "execution_count": 37,
   "id": "2e84c187",
   "metadata": {
    "ExecuteTime": {
     "end_time": "2023-01-31T12:23:39.617491Z",
     "start_time": "2023-01-31T12:23:39.598751Z"
    }
   },
   "outputs": [
    {
     "data": {
      "text/plain": [
       "True"
      ]
     },
     "execution_count": 37,
     "metadata": {},
     "output_type": "execute_result"
    }
   ],
   "source": [
    "bool(a)"
   ]
  },
  {
   "cell_type": "code",
   "execution_count": 34,
   "id": "003b9294",
   "metadata": {
    "ExecuteTime": {
     "end_time": "2023-01-31T12:23:28.130533Z",
     "start_time": "2023-01-31T12:23:28.117286Z"
    }
   },
   "outputs": [
    {
     "data": {
      "text/plain": [
       "int"
      ]
     },
     "execution_count": 34,
     "metadata": {},
     "output_type": "execute_result"
    }
   ],
   "source": [
    "z = 0\n",
    "type(z)"
   ]
  },
  {
   "cell_type": "code",
   "execution_count": 35,
   "id": "5c3504aa",
   "metadata": {
    "ExecuteTime": {
     "end_time": "2023-01-31T12:23:32.644202Z",
     "start_time": "2023-01-31T12:23:32.633538Z"
    }
   },
   "outputs": [
    {
     "data": {
      "text/plain": [
       "False"
      ]
     },
     "execution_count": 35,
     "metadata": {},
     "output_type": "execute_result"
    }
   ],
   "source": [
    "bool(z)"
   ]
  },
  {
   "cell_type": "code",
   "execution_count": null,
   "id": "0b7dbc55",
   "metadata": {
    "ExecuteTime": {
     "end_time": "2023-01-31T09:53:21.654327Z",
     "start_time": "2023-01-31T09:53:21.635640Z"
    }
   },
   "outputs": [],
   "source": [
    "#We can convert any type of values to bool type, and the output for all values will be True , \n",
    "#Except 0, which is False"
   ]
  },
  {
   "cell_type": "markdown",
   "id": "25d2594c",
   "metadata": {},
   "source": [
    "# String methods"
   ]
  },
  {
   "cell_type": "code",
   "execution_count": 9,
   "id": "692d80bf",
   "metadata": {
    "ExecuteTime": {
     "end_time": "2023-02-01T10:41:05.399443Z",
     "start_time": "2023-02-01T10:41:05.388810Z"
    }
   },
   "outputs": [],
   "source": [
    "#Create string\n",
    "s = 'We are learning python'\n",
    "s1 = \"We are learning python\"\n",
    "s2 = \"\"\"We are learning python\"\"\""
   ]
  },
  {
   "cell_type": "code",
   "execution_count": 5,
   "id": "b3df3f10",
   "metadata": {
    "ExecuteTime": {
     "end_time": "2023-02-01T10:39:43.893128Z",
     "start_time": "2023-02-01T10:39:43.885285Z"
    }
   },
   "outputs": [
    {
     "ename": "SyntaxError",
     "evalue": "invalid syntax (2877960538.py, line 1)",
     "output_type": "error",
     "traceback": [
      "\u001b[1;36m  File \u001b[1;32m\"C:\\Users\\Aishwarya\\AppData\\Local\\Temp\\ipykernel_53488\\2877960538.py\"\u001b[1;36m, line \u001b[1;32m1\u001b[0m\n\u001b[1;33m    s = 'It's a laptop\u001b[0m\n\u001b[1;37m            ^\u001b[0m\n\u001b[1;31mSyntaxError\u001b[0m\u001b[1;31m:\u001b[0m invalid syntax\n"
     ]
    }
   ],
   "source": [
    "s = 'It's a laptop"
   ]
  },
  {
   "cell_type": "code",
   "execution_count": 8,
   "id": "9b2bde9a",
   "metadata": {
    "ExecuteTime": {
     "end_time": "2023-02-01T10:40:41.378929Z",
     "start_time": "2023-02-01T10:40:41.368827Z"
    }
   },
   "outputs": [
    {
     "data": {
      "text/plain": [
       "'It\"s is a laptop'"
      ]
     },
     "execution_count": 8,
     "metadata": {},
     "output_type": "execute_result"
    }
   ],
   "source": [
    "s = \"It's a laptop\"\n",
    "s = 'It\"s is a laptop'\n",
    "s"
   ]
  },
  {
   "cell_type": "code",
   "execution_count": 13,
   "id": "8f261d39",
   "metadata": {
    "ExecuteTime": {
     "end_time": "2023-02-01T10:42:27.340224Z",
     "start_time": "2023-02-01T10:42:27.325737Z"
    }
   },
   "outputs": [],
   "source": [
    "#Create string\n",
    "s = 'We are learning python'\n",
    "s1 = \"We are Learning python\"\n",
    "s2 = \"\"\"We are learning python\"\"\""
   ]
  },
  {
   "cell_type": "code",
   "execution_count": 14,
   "id": "90e758e9",
   "metadata": {
    "ExecuteTime": {
     "end_time": "2023-02-01T10:42:27.791988Z",
     "start_time": "2023-02-01T10:42:27.785159Z"
    }
   },
   "outputs": [
    {
     "data": {
      "text/plain": [
       "False"
      ]
     },
     "execution_count": 14,
     "metadata": {},
     "output_type": "execute_result"
    }
   ],
   "source": [
    "s == s1"
   ]
  },
  {
   "cell_type": "code",
   "execution_count": 16,
   "id": "6498f994",
   "metadata": {
    "ExecuteTime": {
     "end_time": "2023-02-01T10:43:19.045685Z",
     "start_time": "2023-02-01T10:43:19.025661Z"
    }
   },
   "outputs": [
    {
     "data": {
      "text/plain": [
       "False"
      ]
     },
     "execution_count": 16,
     "metadata": {},
     "output_type": "execute_result"
    }
   ],
   "source": [
    "s != s2"
   ]
  },
  {
   "cell_type": "code",
   "execution_count": 19,
   "id": "5c20c797",
   "metadata": {
    "ExecuteTime": {
     "end_time": "2023-02-01T10:45:09.350505Z",
     "start_time": "2023-02-01T10:45:09.337819Z"
    }
   },
   "outputs": [],
   "source": [
    "s = 'we are learning python'"
   ]
  },
  {
   "cell_type": "code",
   "execution_count": 20,
   "id": "63671542",
   "metadata": {
    "ExecuteTime": {
     "end_time": "2023-02-01T10:45:10.393664Z",
     "start_time": "2023-02-01T10:45:10.376627Z"
    }
   },
   "outputs": [
    {
     "data": {
      "text/plain": [
       "'We are learning python'"
      ]
     },
     "execution_count": 20,
     "metadata": {},
     "output_type": "execute_result"
    }
   ],
   "source": [
    "s.capitalize()"
   ]
  },
  {
   "cell_type": "code",
   "execution_count": 23,
   "id": "6122e0b5",
   "metadata": {
    "ExecuteTime": {
     "end_time": "2023-02-01T10:46:44.538338Z",
     "start_time": "2023-02-01T10:46:44.530789Z"
    }
   },
   "outputs": [
    {
     "data": {
      "text/plain": [
       "True"
      ]
     },
     "execution_count": 23,
     "metadata": {},
     "output_type": "execute_result"
    }
   ],
   "source": [
    "s.endswith('n')"
   ]
  },
  {
   "cell_type": "code",
   "execution_count": null,
   "id": "574edfab",
   "metadata": {
    "ExecuteTime": {
     "end_time": "2023-01-30T16:28:25.915385Z",
     "start_time": "2023-01-30T16:28:25.912384Z"
    }
   },
   "outputs": [],
   "source": [
    "#find"
   ]
  },
  {
   "cell_type": "code",
   "execution_count": 25,
   "id": "5a6e1bad",
   "metadata": {
    "ExecuteTime": {
     "end_time": "2023-02-01T10:48:48.941414Z",
     "start_time": "2023-02-01T10:48:48.920866Z"
    }
   },
   "outputs": [
    {
     "data": {
      "text/plain": [
       "16"
      ]
     },
     "execution_count": 25,
     "metadata": {},
     "output_type": "execute_result"
    }
   ],
   "source": [
    "s.find('python')"
   ]
  },
  {
   "cell_type": "code",
   "execution_count": null,
   "id": "1c83cfa6",
   "metadata": {
    "ExecuteTime": {
     "end_time": "2023-01-30T16:28:25.947675Z",
     "start_time": "2023-01-30T16:28:25.929497Z"
    }
   },
   "outputs": [],
   "source": [
    "#join"
   ]
  },
  {
   "cell_type": "code",
   "execution_count": 27,
   "id": "cdb46bc1",
   "metadata": {
    "ExecuteTime": {
     "end_time": "2023-02-01T10:49:44.019934Z",
     "start_time": "2023-02-01T10:49:44.010180Z"
    }
   },
   "outputs": [],
   "source": [
    "s = 'Python Basics part one'"
   ]
  },
  {
   "cell_type": "code",
   "execution_count": 29,
   "id": "68169690",
   "metadata": {
    "ExecuteTime": {
     "end_time": "2023-02-01T10:50:54.194024Z",
     "start_time": "2023-02-01T10:50:54.182725Z"
    }
   },
   "outputs": [
    {
     "data": {
      "text/plain": [
       "'P=y=t=h=o=n= =B=a=s=i=c=s= =p=a=r=t= =o=n=e'"
      ]
     },
     "execution_count": 29,
     "metadata": {},
     "output_type": "execute_result"
    }
   ],
   "source": [
    "'='.join(s)"
   ]
  },
  {
   "cell_type": "code",
   "execution_count": null,
   "id": "827aa51d",
   "metadata": {
    "ExecuteTime": {
     "end_time": "2023-01-30T16:28:25.963077Z",
     "start_time": "2023-01-30T16:28:25.950796Z"
    }
   },
   "outputs": [],
   "source": [
    "#replace"
   ]
  },
  {
   "cell_type": "code",
   "execution_count": 30,
   "id": "4787d34a",
   "metadata": {
    "ExecuteTime": {
     "end_time": "2023-02-01T10:51:38.346573Z",
     "start_time": "2023-02-01T10:51:38.328379Z"
    }
   },
   "outputs": [],
   "source": [
    "s = 'Python/Basics/part/one'"
   ]
  },
  {
   "cell_type": "code",
   "execution_count": 34,
   "id": "74c14e4b",
   "metadata": {
    "ExecuteTime": {
     "end_time": "2023-02-01T10:54:09.280996Z",
     "start_time": "2023-02-01T10:54:09.271553Z"
    }
   },
   "outputs": [],
   "source": [
    "s = s.replace('/','-')"
   ]
  },
  {
   "cell_type": "code",
   "execution_count": 35,
   "id": "29603076",
   "metadata": {
    "ExecuteTime": {
     "end_time": "2023-02-01T10:54:11.518178Z",
     "start_time": "2023-02-01T10:54:11.509568Z"
    }
   },
   "outputs": [
    {
     "data": {
      "text/plain": [
       "'Python-Basics-part-one'"
      ]
     },
     "execution_count": 35,
     "metadata": {},
     "output_type": "execute_result"
    }
   ],
   "source": [
    "s"
   ]
  },
  {
   "cell_type": "code",
   "execution_count": null,
   "id": "c26137c1",
   "metadata": {
    "ExecuteTime": {
     "end_time": "2023-01-30T16:28:25.978777Z",
     "start_time": "2023-01-30T16:28:25.965263Z"
    }
   },
   "outputs": [],
   "source": [
    "#split"
   ]
  },
  {
   "cell_type": "code",
   "execution_count": 36,
   "id": "e0b71753",
   "metadata": {
    "ExecuteTime": {
     "end_time": "2023-02-01T10:55:11.446812Z",
     "start_time": "2023-02-01T10:55:11.427621Z"
    }
   },
   "outputs": [
    {
     "data": {
      "text/plain": [
       "'Python-Basics-part-one'"
      ]
     },
     "execution_count": 36,
     "metadata": {},
     "output_type": "execute_result"
    }
   ],
   "source": [
    "s"
   ]
  },
  {
   "cell_type": "code",
   "execution_count": 37,
   "id": "107cb9c8",
   "metadata": {
    "ExecuteTime": {
     "end_time": "2023-02-01T10:56:11.555189Z",
     "start_time": "2023-02-01T10:56:11.541715Z"
    }
   },
   "outputs": [
    {
     "data": {
      "text/plain": [
       "['Python', 'Basics', 'part', 'one']"
      ]
     },
     "execution_count": 37,
     "metadata": {},
     "output_type": "execute_result"
    }
   ],
   "source": [
    "s.split('-')"
   ]
  },
  {
   "cell_type": "code",
   "execution_count": 38,
   "id": "d555d233",
   "metadata": {
    "ExecuteTime": {
     "end_time": "2023-02-01T10:56:30.166064Z",
     "start_time": "2023-02-01T10:56:30.156196Z"
    }
   },
   "outputs": [],
   "source": [
    "email = 'abc@gmail.com'"
   ]
  },
  {
   "cell_type": "code",
   "execution_count": 39,
   "id": "7dc66dee",
   "metadata": {
    "ExecuteTime": {
     "end_time": "2023-02-01T10:57:13.502986Z",
     "start_time": "2023-02-01T10:57:13.490839Z"
    }
   },
   "outputs": [
    {
     "data": {
      "text/plain": [
       "['abc', 'gmail.com']"
      ]
     },
     "execution_count": 39,
     "metadata": {},
     "output_type": "execute_result"
    }
   ],
   "source": [
    "email.split('@')"
   ]
  },
  {
   "cell_type": "code",
   "execution_count": 40,
   "id": "79c9ffa6",
   "metadata": {
    "ExecuteTime": {
     "end_time": "2023-02-01T10:59:35.066718Z",
     "start_time": "2023-02-01T10:59:35.045252Z"
    }
   },
   "outputs": [
    {
     "data": {
      "text/plain": [
       "'wE ARE LEARNING pYTHON'"
      ]
     },
     "execution_count": 40,
     "metadata": {},
     "output_type": "execute_result"
    }
   ],
   "source": [
    "#swapcase\n",
    "\n",
    "a = 'We are learning Python'\n",
    "\n",
    "a.swapcase()"
   ]
  },
  {
   "cell_type": "code",
   "execution_count": null,
   "id": "4f210d86",
   "metadata": {
    "ExecuteTime": {
     "end_time": "2023-01-30T16:28:26.010432Z",
     "start_time": "2023-01-30T16:28:25.996912Z"
    }
   },
   "outputs": [],
   "source": [
    "#Upper, Lower,Title"
   ]
  },
  {
   "cell_type": "code",
   "execution_count": 41,
   "id": "1bb16fb7",
   "metadata": {
    "ExecuteTime": {
     "end_time": "2023-02-01T10:59:45.972996Z",
     "start_time": "2023-02-01T10:59:45.957253Z"
    }
   },
   "outputs": [
    {
     "data": {
      "text/plain": [
       "'WE ARE LEARNING PYTHON'"
      ]
     },
     "execution_count": 41,
     "metadata": {},
     "output_type": "execute_result"
    }
   ],
   "source": [
    "a.upper()"
   ]
  },
  {
   "cell_type": "code",
   "execution_count": 42,
   "id": "cfe1ad7e",
   "metadata": {
    "ExecuteTime": {
     "end_time": "2023-02-01T11:00:02.023421Z",
     "start_time": "2023-02-01T11:00:02.005418Z"
    }
   },
   "outputs": [
    {
     "data": {
      "text/plain": [
       "'we are learning python'"
      ]
     },
     "execution_count": 42,
     "metadata": {},
     "output_type": "execute_result"
    }
   ],
   "source": [
    "a.lower()"
   ]
  },
  {
   "cell_type": "code",
   "execution_count": 43,
   "id": "83a246cb",
   "metadata": {
    "ExecuteTime": {
     "end_time": "2023-02-01T11:00:07.609867Z",
     "start_time": "2023-02-01T11:00:07.602482Z"
    }
   },
   "outputs": [
    {
     "data": {
      "text/plain": [
       "'We Are Learning Python'"
      ]
     },
     "execution_count": 43,
     "metadata": {},
     "output_type": "execute_result"
    }
   ],
   "source": [
    "a.title()"
   ]
  },
  {
   "cell_type": "markdown",
   "id": "48220fa4",
   "metadata": {},
   "source": [
    "# Data Structures\n",
    "1. Lists\n",
    "2. Tuple\n",
    "3. Dictionary\n",
    "4. Sets"
   ]
  },
  {
   "cell_type": "markdown",
   "id": "78753086",
   "metadata": {},
   "source": [
    "**Lists**\n",
    "\n",
    "- Lists are the built in data structures in python.\n",
    "- Lists are heterogenous data structure.\n",
    "- Lists are mutable."
   ]
  },
  {
   "cell_type": "code",
   "execution_count": null,
   "id": "8417c924",
   "metadata": {
    "ExecuteTime": {
     "end_time": "2023-01-30T16:28:26.026599Z",
     "start_time": "2023-01-30T16:28:26.012432Z"
    }
   },
   "outputs": [],
   "source": [
    "#Creating lists"
   ]
  },
  {
   "cell_type": "code",
   "execution_count": 44,
   "id": "f1570c8d",
   "metadata": {
    "ExecuteTime": {
     "end_time": "2023-02-01T11:03:40.183589Z",
     "start_time": "2023-02-01T11:03:40.177342Z"
    }
   },
   "outputs": [
    {
     "data": {
      "text/plain": [
       "list"
      ]
     },
     "execution_count": 44,
     "metadata": {},
     "output_type": "execute_result"
    }
   ],
   "source": [
    "lst = []\n",
    "\n",
    "type(lst)"
   ]
  },
  {
   "cell_type": "code",
   "execution_count": 45,
   "id": "3f4790ef",
   "metadata": {
    "ExecuteTime": {
     "end_time": "2023-02-01T11:04:40.142484Z",
     "start_time": "2023-02-01T11:04:40.132358Z"
    }
   },
   "outputs": [
    {
     "data": {
      "text/plain": [
       "list"
      ]
     },
     "execution_count": 45,
     "metadata": {},
     "output_type": "execute_result"
    }
   ],
   "source": [
    "l1 = list()\n",
    "type(l1)"
   ]
  },
  {
   "cell_type": "code",
   "execution_count": 74,
   "id": "8884c02e",
   "metadata": {
    "ExecuteTime": {
     "end_time": "2023-02-01T11:14:47.779036Z",
     "start_time": "2023-02-01T11:14:47.772308Z"
    }
   },
   "outputs": [],
   "source": [
    "lst = [10,18.2,True, 'Python']"
   ]
  },
  {
   "cell_type": "code",
   "execution_count": 49,
   "id": "abd528a2",
   "metadata": {
    "ExecuteTime": {
     "end_time": "2023-02-01T11:07:11.126854Z",
     "start_time": "2023-02-01T11:07:11.121464Z"
    }
   },
   "outputs": [
    {
     "data": {
      "text/plain": [
       "[10, 18.2, True, 'Python']"
      ]
     },
     "execution_count": 49,
     "metadata": {},
     "output_type": "execute_result"
    }
   ],
   "source": [
    "lst"
   ]
  },
  {
   "cell_type": "code",
   "execution_count": 48,
   "id": "0ae2e07b",
   "metadata": {
    "ExecuteTime": {
     "end_time": "2023-02-01T11:06:59.978105Z",
     "start_time": "2023-02-01T11:06:59.966042Z"
    }
   },
   "outputs": [
    {
     "data": {
      "text/plain": [
       "True"
      ]
     },
     "execution_count": 48,
     "metadata": {},
     "output_type": "execute_result"
    }
   ],
   "source": [
    "#Accessing elements from a list\n",
    "lst[2]"
   ]
  },
  {
   "cell_type": "code",
   "execution_count": 50,
   "id": "def7bd1a",
   "metadata": {
    "ExecuteTime": {
     "end_time": "2023-02-01T11:07:13.416479Z",
     "start_time": "2023-02-01T11:07:13.395439Z"
    }
   },
   "outputs": [
    {
     "data": {
      "text/plain": [
       "'Python'"
      ]
     },
     "execution_count": 50,
     "metadata": {},
     "output_type": "execute_result"
    }
   ],
   "source": [
    "lst[-1]"
   ]
  },
  {
   "cell_type": "code",
   "execution_count": 53,
   "id": "c87a0394",
   "metadata": {
    "ExecuteTime": {
     "end_time": "2023-02-01T11:08:18.927677Z",
     "start_time": "2023-02-01T11:08:18.910156Z"
    }
   },
   "outputs": [
    {
     "data": {
      "text/plain": [
       "[10, 18.2, True, 'Python']"
      ]
     },
     "execution_count": 53,
     "metadata": {},
     "output_type": "execute_result"
    }
   ],
   "source": [
    "lst"
   ]
  },
  {
   "cell_type": "code",
   "execution_count": 54,
   "id": "f592a328",
   "metadata": {
    "ExecuteTime": {
     "end_time": "2023-02-01T11:08:20.548380Z",
     "start_time": "2023-02-01T11:08:20.527043Z"
    }
   },
   "outputs": [
    {
     "data": {
      "text/plain": [
       "[10, 18.2, True]"
      ]
     },
     "execution_count": 54,
     "metadata": {},
     "output_type": "execute_result"
    }
   ],
   "source": [
    "lst[0:3]"
   ]
  },
  {
   "cell_type": "code",
   "execution_count": 56,
   "id": "830edbcf",
   "metadata": {
    "ExecuteTime": {
     "end_time": "2023-02-01T11:09:17.731253Z",
     "start_time": "2023-02-01T11:09:17.712618Z"
    }
   },
   "outputs": [
    {
     "data": {
      "text/plain": [
       "[18.2, True, 'Python']"
      ]
     },
     "execution_count": 56,
     "metadata": {},
     "output_type": "execute_result"
    }
   ],
   "source": [
    "lst[1:]"
   ]
  },
  {
   "cell_type": "code",
   "execution_count": null,
   "id": "405e6788",
   "metadata": {
    "ExecuteTime": {
     "end_time": "2023-01-30T16:28:26.057775Z",
     "start_time": "2023-01-30T16:28:26.044245Z"
    }
   },
   "outputs": [],
   "source": [
    "#append"
   ]
  },
  {
   "cell_type": "code",
   "execution_count": 57,
   "id": "6fbff13b",
   "metadata": {
    "ExecuteTime": {
     "end_time": "2023-02-01T11:10:09.724162Z",
     "start_time": "2023-02-01T11:10:09.705257Z"
    }
   },
   "outputs": [],
   "source": [
    "lst.append(100)"
   ]
  },
  {
   "cell_type": "code",
   "execution_count": 58,
   "id": "4676126e",
   "metadata": {
    "ExecuteTime": {
     "end_time": "2023-02-01T11:10:13.964489Z",
     "start_time": "2023-02-01T11:10:13.954918Z"
    }
   },
   "outputs": [
    {
     "data": {
      "text/plain": [
       "[10, 18.2, True, 'Python', 100]"
      ]
     },
     "execution_count": 58,
     "metadata": {},
     "output_type": "execute_result"
    }
   ],
   "source": [
    "lst"
   ]
  },
  {
   "cell_type": "code",
   "execution_count": 59,
   "id": "9a904e7f",
   "metadata": {
    "ExecuteTime": {
     "end_time": "2023-02-01T11:10:41.191736Z",
     "start_time": "2023-02-01T11:10:41.179896Z"
    }
   },
   "outputs": [
    {
     "data": {
      "text/plain": [
       "[10, 18.2, True, 'Python', 100, 'ML']"
      ]
     },
     "execution_count": 59,
     "metadata": {},
     "output_type": "execute_result"
    }
   ],
   "source": [
    "lst.append('ML')\n",
    "lst"
   ]
  },
  {
   "cell_type": "code",
   "execution_count": 61,
   "id": "59386c93",
   "metadata": {
    "ExecuteTime": {
     "end_time": "2023-02-01T11:11:36.278618Z",
     "start_time": "2023-02-01T11:11:36.266591Z"
    }
   },
   "outputs": [],
   "source": [
    "lst.append(18.2)"
   ]
  },
  {
   "cell_type": "code",
   "execution_count": 64,
   "id": "1a86cb29",
   "metadata": {
    "ExecuteTime": {
     "end_time": "2023-02-01T11:11:43.077788Z",
     "start_time": "2023-02-01T11:11:43.063710Z"
    }
   },
   "outputs": [
    {
     "data": {
      "text/plain": [
       "[10, 18.2, True, 'Python', 100, 'ML', 18.2]"
      ]
     },
     "execution_count": 64,
     "metadata": {},
     "output_type": "execute_result"
    }
   ],
   "source": [
    "lst"
   ]
  },
  {
   "cell_type": "code",
   "execution_count": 62,
   "id": "3b379bef",
   "metadata": {
    "ExecuteTime": {
     "end_time": "2023-02-01T11:11:36.606720Z",
     "start_time": "2023-02-01T11:11:36.600692Z"
    }
   },
   "outputs": [],
   "source": [
    "#Count "
   ]
  },
  {
   "cell_type": "code",
   "execution_count": 63,
   "id": "41e60574",
   "metadata": {
    "ExecuteTime": {
     "end_time": "2023-02-01T11:11:37.071894Z",
     "start_time": "2023-02-01T11:11:37.051857Z"
    }
   },
   "outputs": [
    {
     "data": {
      "text/plain": [
       "2"
      ]
     },
     "execution_count": 63,
     "metadata": {},
     "output_type": "execute_result"
    }
   ],
   "source": [
    "lst.count(18.2)"
   ]
  },
  {
   "cell_type": "code",
   "execution_count": null,
   "id": "d6b0a78f",
   "metadata": {
    "ExecuteTime": {
     "end_time": "2023-01-30T16:28:26.079327Z",
     "start_time": "2023-01-30T16:28:26.074135Z"
    }
   },
   "outputs": [],
   "source": [
    "#Index"
   ]
  },
  {
   "cell_type": "code",
   "execution_count": 65,
   "id": "04130f5c",
   "metadata": {
    "ExecuteTime": {
     "end_time": "2023-02-01T11:12:26.196986Z",
     "start_time": "2023-02-01T11:12:26.177711Z"
    }
   },
   "outputs": [
    {
     "data": {
      "text/plain": [
       "3"
      ]
     },
     "execution_count": 65,
     "metadata": {},
     "output_type": "execute_result"
    }
   ],
   "source": [
    "lst.index('Python')"
   ]
  },
  {
   "cell_type": "code",
   "execution_count": null,
   "id": "ec790de7",
   "metadata": {
    "ExecuteTime": {
     "end_time": "2023-01-30T16:28:26.093199Z",
     "start_time": "2023-01-30T16:28:26.081809Z"
    }
   },
   "outputs": [],
   "source": [
    "#Insert"
   ]
  },
  {
   "cell_type": "code",
   "execution_count": 66,
   "id": "b2e67472",
   "metadata": {
    "ExecuteTime": {
     "end_time": "2023-02-01T11:12:53.292601Z",
     "start_time": "2023-02-01T11:12:53.279269Z"
    }
   },
   "outputs": [
    {
     "data": {
      "text/plain": [
       "[10, 18.2, True, 'Python', 100, 'ML', 18.2]"
      ]
     },
     "execution_count": 66,
     "metadata": {},
     "output_type": "execute_result"
    }
   ],
   "source": [
    "lst"
   ]
  },
  {
   "cell_type": "code",
   "execution_count": 67,
   "id": "45aac18b",
   "metadata": {
    "ExecuteTime": {
     "end_time": "2023-02-01T11:13:36.454945Z",
     "start_time": "2023-02-01T11:13:36.435313Z"
    }
   },
   "outputs": [],
   "source": [
    "lst.insert(0,1000)"
   ]
  },
  {
   "cell_type": "code",
   "execution_count": 68,
   "id": "7bb906d0",
   "metadata": {
    "ExecuteTime": {
     "end_time": "2023-02-01T11:13:38.741818Z",
     "start_time": "2023-02-01T11:13:38.735231Z"
    }
   },
   "outputs": [
    {
     "data": {
      "text/plain": [
       "[1000, 10, 18.2, True, 'Python', 100, 'ML', 18.2]"
      ]
     },
     "execution_count": 68,
     "metadata": {},
     "output_type": "execute_result"
    }
   ],
   "source": [
    "lst"
   ]
  },
  {
   "cell_type": "code",
   "execution_count": 71,
   "id": "0bd3d2de",
   "metadata": {
    "ExecuteTime": {
     "end_time": "2023-02-01T11:14:09.635696Z",
     "start_time": "2023-02-01T11:14:09.624525Z"
    }
   },
   "outputs": [
    {
     "data": {
      "text/plain": [
       "[1000, 10, 18.2, True, 'Python', 100, 'ML', 500, 500, 18.2]"
      ]
     },
     "execution_count": 71,
     "metadata": {},
     "output_type": "execute_result"
    }
   ],
   "source": [
    "lst.insert(-1,500)"
   ]
  },
  {
   "cell_type": "code",
   "execution_count": 78,
   "id": "337583b6",
   "metadata": {
    "ExecuteTime": {
     "end_time": "2023-02-01T11:15:11.010030Z",
     "start_time": "2023-02-01T11:15:10.991672Z"
    }
   },
   "outputs": [],
   "source": [
    "lst.insert(4,20)"
   ]
  },
  {
   "cell_type": "code",
   "execution_count": 79,
   "id": "93829792",
   "metadata": {
    "ExecuteTime": {
     "end_time": "2023-02-01T11:15:11.724531Z",
     "start_time": "2023-02-01T11:15:11.714399Z"
    }
   },
   "outputs": [
    {
     "data": {
      "text/plain": [
       "[10, 18.2, True, 20, 20, 'Python']"
      ]
     },
     "execution_count": 79,
     "metadata": {},
     "output_type": "execute_result"
    }
   ],
   "source": [
    "lst"
   ]
  },
  {
   "cell_type": "code",
   "execution_count": null,
   "id": "cc3629cb",
   "metadata": {
    "ExecuteTime": {
     "end_time": "2023-01-30T16:28:26.108854Z",
     "start_time": "2023-01-30T16:28:26.095325Z"
    }
   },
   "outputs": [],
   "source": [
    "#pop"
   ]
  },
  {
   "cell_type": "code",
   "execution_count": 80,
   "id": "5fd7d1ba",
   "metadata": {
    "ExecuteTime": {
     "end_time": "2023-02-01T11:15:42.095770Z",
     "start_time": "2023-02-01T11:15:42.081011Z"
    }
   },
   "outputs": [
    {
     "data": {
      "text/plain": [
       "'Python'"
      ]
     },
     "execution_count": 80,
     "metadata": {},
     "output_type": "execute_result"
    }
   ],
   "source": [
    "lst.pop()"
   ]
  },
  {
   "cell_type": "code",
   "execution_count": 81,
   "id": "6ab33471",
   "metadata": {
    "ExecuteTime": {
     "end_time": "2023-02-01T11:15:48.304816Z",
     "start_time": "2023-02-01T11:15:48.290711Z"
    }
   },
   "outputs": [
    {
     "data": {
      "text/plain": [
       "[10, 18.2, True, 20, 20]"
      ]
     },
     "execution_count": 81,
     "metadata": {},
     "output_type": "execute_result"
    }
   ],
   "source": [
    "lst"
   ]
  },
  {
   "cell_type": "code",
   "execution_count": null,
   "id": "041ea0f3",
   "metadata": {
    "ExecuteTime": {
     "end_time": "2023-01-30T16:28:26.124705Z",
     "start_time": "2023-01-30T16:28:26.108854Z"
    }
   },
   "outputs": [],
   "source": [
    "#reverse"
   ]
  },
  {
   "cell_type": "code",
   "execution_count": 82,
   "id": "f3bdbd28",
   "metadata": {
    "ExecuteTime": {
     "end_time": "2023-02-01T11:16:29.275176Z",
     "start_time": "2023-02-01T11:16:29.263653Z"
    }
   },
   "outputs": [],
   "source": [
    "lst.reverse()"
   ]
  },
  {
   "cell_type": "code",
   "execution_count": 83,
   "id": "88092c1b",
   "metadata": {
    "ExecuteTime": {
     "end_time": "2023-02-01T11:16:31.518360Z",
     "start_time": "2023-02-01T11:16:31.504782Z"
    }
   },
   "outputs": [
    {
     "data": {
      "text/plain": [
       "[20, 20, True, 18.2, 10]"
      ]
     },
     "execution_count": 83,
     "metadata": {},
     "output_type": "execute_result"
    }
   ],
   "source": [
    "lst"
   ]
  },
  {
   "cell_type": "code",
   "execution_count": null,
   "id": "e5a6f491",
   "metadata": {
    "ExecuteTime": {
     "end_time": "2023-01-30T16:28:26.140503Z",
     "start_time": "2023-01-30T16:28:26.124705Z"
    }
   },
   "outputs": [],
   "source": [
    "#remove"
   ]
  },
  {
   "cell_type": "code",
   "execution_count": 84,
   "id": "4c1b2ec0",
   "metadata": {
    "ExecuteTime": {
     "end_time": "2023-02-01T11:17:02.249549Z",
     "start_time": "2023-02-01T11:17:02.231487Z"
    }
   },
   "outputs": [
    {
     "data": {
      "text/plain": [
       "[20, 20, True, 18.2, 10]"
      ]
     },
     "execution_count": 84,
     "metadata": {},
     "output_type": "execute_result"
    }
   ],
   "source": [
    "lst"
   ]
  },
  {
   "cell_type": "code",
   "execution_count": 85,
   "id": "d079c056",
   "metadata": {
    "ExecuteTime": {
     "end_time": "2023-02-01T11:17:12.381745Z",
     "start_time": "2023-02-01T11:17:12.370753Z"
    }
   },
   "outputs": [],
   "source": [
    "lst.remove(True)"
   ]
  },
  {
   "cell_type": "code",
   "execution_count": 86,
   "id": "8e316c6c",
   "metadata": {
    "ExecuteTime": {
     "end_time": "2023-02-01T11:17:15.117829Z",
     "start_time": "2023-02-01T11:17:15.106169Z"
    }
   },
   "outputs": [
    {
     "data": {
      "text/plain": [
       "[20, 20, 18.2, 10]"
      ]
     },
     "execution_count": 86,
     "metadata": {},
     "output_type": "execute_result"
    }
   ],
   "source": [
    "lst"
   ]
  },
  {
   "cell_type": "code",
   "execution_count": null,
   "id": "2c6eb636",
   "metadata": {
    "ExecuteTime": {
     "end_time": "2023-01-30T16:28:26.156392Z",
     "start_time": "2023-01-30T16:28:26.140503Z"
    }
   },
   "outputs": [],
   "source": [
    "#Replacing elements in lists"
   ]
  },
  {
   "cell_type": "code",
   "execution_count": 87,
   "id": "521b8b04",
   "metadata": {
    "ExecuteTime": {
     "end_time": "2023-02-01T11:18:04.156430Z",
     "start_time": "2023-02-01T11:18:04.145902Z"
    }
   },
   "outputs": [],
   "source": [
    "lst = [10,12,14,'False','Python']"
   ]
  },
  {
   "cell_type": "code",
   "execution_count": 88,
   "id": "1191f014",
   "metadata": {
    "ExecuteTime": {
     "end_time": "2023-02-01T11:19:03.328112Z",
     "start_time": "2023-02-01T11:19:03.316974Z"
    }
   },
   "outputs": [],
   "source": [
    "lst[3] = True"
   ]
  },
  {
   "cell_type": "code",
   "execution_count": 89,
   "id": "01d531dd",
   "metadata": {
    "ExecuteTime": {
     "end_time": "2023-02-01T11:19:05.827145Z",
     "start_time": "2023-02-01T11:19:05.810895Z"
    }
   },
   "outputs": [
    {
     "data": {
      "text/plain": [
       "[10, 12, 14, True, 'Python']"
      ]
     },
     "execution_count": 89,
     "metadata": {},
     "output_type": "execute_result"
    }
   ],
   "source": [
    "lst"
   ]
  },
  {
   "cell_type": "markdown",
   "id": "5dbba063",
   "metadata": {},
   "source": [
    "**Tuple**\n",
    "\n",
    "- Tuples are ordered and heterogenous data structure.\n",
    "- Tuples are immutable."
   ]
  },
  {
   "cell_type": "code",
   "execution_count": 90,
   "id": "174d82a7",
   "metadata": {
    "ExecuteTime": {
     "end_time": "2023-02-01T11:19:57.967890Z",
     "start_time": "2023-02-01T11:19:57.956360Z"
    }
   },
   "outputs": [
    {
     "data": {
      "text/plain": [
       "tuple"
      ]
     },
     "execution_count": 90,
     "metadata": {},
     "output_type": "execute_result"
    }
   ],
   "source": [
    "#Create a tuple\n",
    "\n",
    "t = ()\n",
    "type(t)"
   ]
  },
  {
   "cell_type": "code",
   "execution_count": 91,
   "id": "52b0c1d4",
   "metadata": {
    "ExecuteTime": {
     "end_time": "2023-02-01T11:20:20.157635Z",
     "start_time": "2023-02-01T11:20:20.145832Z"
    }
   },
   "outputs": [
    {
     "data": {
      "text/plain": [
       "tuple"
      ]
     },
     "execution_count": 91,
     "metadata": {},
     "output_type": "execute_result"
    }
   ],
   "source": [
    "t1 = tuple()\n",
    "type(t1)"
   ]
  },
  {
   "cell_type": "code",
   "execution_count": 96,
   "id": "9d6cc3a9",
   "metadata": {
    "ExecuteTime": {
     "end_time": "2023-02-01T11:23:09.241655Z",
     "start_time": "2023-02-01T11:23:09.224249Z"
    }
   },
   "outputs": [],
   "source": [
    "t = (10,20,10.5,\"python\",10.5)"
   ]
  },
  {
   "cell_type": "code",
   "execution_count": 97,
   "id": "5b616bb0",
   "metadata": {
    "ExecuteTime": {
     "end_time": "2023-02-01T11:23:09.741291Z",
     "start_time": "2023-02-01T11:23:09.723792Z"
    }
   },
   "outputs": [
    {
     "data": {
      "text/plain": [
       "(10, 20, 10.5, 'python', 10.5)"
      ]
     },
     "execution_count": 97,
     "metadata": {},
     "output_type": "execute_result"
    }
   ],
   "source": [
    "t"
   ]
  },
  {
   "cell_type": "code",
   "execution_count": 98,
   "id": "9d276878",
   "metadata": {
    "ExecuteTime": {
     "end_time": "2023-02-01T11:23:10.735274Z",
     "start_time": "2023-02-01T11:23:10.712453Z"
    }
   },
   "outputs": [
    {
     "data": {
      "text/plain": [
       "2"
      ]
     },
     "execution_count": 98,
     "metadata": {},
     "output_type": "execute_result"
    }
   ],
   "source": [
    "t.count(10.5)"
   ]
  },
  {
   "cell_type": "code",
   "execution_count": null,
   "id": "e6436ef7",
   "metadata": {
    "ExecuteTime": {
     "end_time": "2023-01-30T16:28:26.188478Z",
     "start_time": "2023-01-30T16:28:26.177138Z"
    }
   },
   "outputs": [],
   "source": [
    "#Accessing elements from tuple"
   ]
  },
  {
   "cell_type": "code",
   "execution_count": 95,
   "id": "a913ba15",
   "metadata": {
    "ExecuteTime": {
     "end_time": "2023-02-01T11:21:36.427435Z",
     "start_time": "2023-02-01T11:21:36.412865Z"
    }
   },
   "outputs": [
    {
     "data": {
      "text/plain": [
       "10"
      ]
     },
     "execution_count": 95,
     "metadata": {},
     "output_type": "execute_result"
    }
   ],
   "source": [
    "t[0]"
   ]
  },
  {
   "cell_type": "code",
   "execution_count": null,
   "id": "bd50381a",
   "metadata": {
    "ExecuteTime": {
     "end_time": "2023-01-30T16:28:26.204332Z",
     "start_time": "2023-01-30T16:28:26.188478Z"
    }
   },
   "outputs": [],
   "source": [
    "#Replacing elements"
   ]
  },
  {
   "cell_type": "code",
   "execution_count": 99,
   "id": "9af3e5b9",
   "metadata": {
    "ExecuteTime": {
     "end_time": "2023-02-01T11:23:41.012926Z",
     "start_time": "2023-02-01T11:23:40.998433Z"
    }
   },
   "outputs": [
    {
     "data": {
      "text/plain": [
       "(10, 20, 10.5, 'python', 10.5)"
      ]
     },
     "execution_count": 99,
     "metadata": {},
     "output_type": "execute_result"
    }
   ],
   "source": [
    "t"
   ]
  },
  {
   "cell_type": "code",
   "execution_count": 100,
   "id": "862e38c3",
   "metadata": {
    "ExecuteTime": {
     "end_time": "2023-02-01T11:23:56.550193Z",
     "start_time": "2023-02-01T11:23:56.528989Z"
    }
   },
   "outputs": [
    {
     "ename": "TypeError",
     "evalue": "'tuple' object does not support item assignment",
     "output_type": "error",
     "traceback": [
      "\u001b[1;31m---------------------------------------------------------------------------\u001b[0m",
      "\u001b[1;31mTypeError\u001b[0m                                 Traceback (most recent call last)",
      "\u001b[1;32m~\\AppData\\Local\\Temp\\ipykernel_53488\\1869328956.py\u001b[0m in \u001b[0;36m<module>\u001b[1;34m\u001b[0m\n\u001b[1;32m----> 1\u001b[1;33m \u001b[0mt\u001b[0m\u001b[1;33m[\u001b[0m\u001b[1;36m1\u001b[0m\u001b[1;33m]\u001b[0m \u001b[1;33m=\u001b[0m \u001b[1;36m2000\u001b[0m\u001b[1;33m\u001b[0m\u001b[1;33m\u001b[0m\u001b[0m\n\u001b[0m",
      "\u001b[1;31mTypeError\u001b[0m: 'tuple' object does not support item assignment"
     ]
    }
   ],
   "source": [
    "t[1] = 2000"
   ]
  },
  {
   "cell_type": "code",
   "execution_count": 101,
   "id": "68f34c47",
   "metadata": {
    "ExecuteTime": {
     "end_time": "2023-02-01T11:24:36.667784Z",
     "start_time": "2023-02-01T11:24:36.655287Z"
    }
   },
   "outputs": [
    {
     "data": {
      "text/plain": [
       "tuple"
      ]
     },
     "execution_count": 101,
     "metadata": {},
     "output_type": "execute_result"
    }
   ],
   "source": [
    "type(t)"
   ]
  },
  {
   "cell_type": "code",
   "execution_count": 104,
   "id": "d1c38758",
   "metadata": {
    "ExecuteTime": {
     "end_time": "2023-02-01T11:26:09.141822Z",
     "start_time": "2023-02-01T11:26:09.127569Z"
    }
   },
   "outputs": [
    {
     "data": {
      "text/plain": [
       "[10, 20, 10.5, 'python', 10.5]"
      ]
     },
     "execution_count": 104,
     "metadata": {},
     "output_type": "execute_result"
    }
   ],
   "source": [
    "t1 = list(t)\n",
    "t1\n",
    "type(t1)\n",
    "t1"
   ]
  },
  {
   "cell_type": "code",
   "execution_count": 105,
   "id": "0606a994",
   "metadata": {
    "ExecuteTime": {
     "end_time": "2023-02-01T11:26:16.948799Z",
     "start_time": "2023-02-01T11:26:16.944986Z"
    }
   },
   "outputs": [],
   "source": [
    "t1[1] = 2000"
   ]
  },
  {
   "cell_type": "code",
   "execution_count": 106,
   "id": "c1463d35",
   "metadata": {
    "ExecuteTime": {
     "end_time": "2023-02-01T11:26:20.266185Z",
     "start_time": "2023-02-01T11:26:20.256542Z"
    }
   },
   "outputs": [
    {
     "data": {
      "text/plain": [
       "[10, 2000, 10.5, 'python', 10.5]"
      ]
     },
     "execution_count": 106,
     "metadata": {},
     "output_type": "execute_result"
    }
   ],
   "source": [
    "t1"
   ]
  },
  {
   "cell_type": "code",
   "execution_count": 107,
   "id": "b020c463",
   "metadata": {
    "ExecuteTime": {
     "end_time": "2023-02-01T11:26:40.341421Z",
     "start_time": "2023-02-01T11:26:40.331509Z"
    }
   },
   "outputs": [
    {
     "data": {
      "text/plain": [
       "(10, 2000, 10.5, 'python', 10.5)"
      ]
     },
     "execution_count": 107,
     "metadata": {},
     "output_type": "execute_result"
    }
   ],
   "source": [
    "t = tuple(t1)\n",
    "t"
   ]
  },
  {
   "cell_type": "code",
   "execution_count": 108,
   "id": "377b51f6",
   "metadata": {
    "ExecuteTime": {
     "end_time": "2023-02-01T11:27:01.962442Z",
     "start_time": "2023-02-01T11:27:01.951982Z"
    }
   },
   "outputs": [
    {
     "data": {
      "text/plain": [
       "tuple"
      ]
     },
     "execution_count": 108,
     "metadata": {},
     "output_type": "execute_result"
    }
   ],
   "source": [
    "type(t)"
   ]
  },
  {
   "cell_type": "markdown",
   "id": "fb3d7af9",
   "metadata": {},
   "source": [
    "**Dictionary**\n",
    "\n",
    "- Python dictionaries are ordered collection of items.\n",
    "- Dictionary is mutable data structure.\n",
    "- It has key and value pair."
   ]
  },
  {
   "cell_type": "code",
   "execution_count": null,
   "id": "5a7874ad",
   "metadata": {
    "ExecuteTime": {
     "end_time": "2023-01-30T16:28:26.220297Z",
     "start_time": "2023-01-30T16:28:26.204332Z"
    }
   },
   "outputs": [],
   "source": [
    "#Creating an empty dictionary"
   ]
  },
  {
   "cell_type": "code",
   "execution_count": 109,
   "id": "027b0252",
   "metadata": {
    "ExecuteTime": {
     "end_time": "2023-02-01T11:36:50.878825Z",
     "start_time": "2023-02-01T11:36:50.859144Z"
    }
   },
   "outputs": [
    {
     "data": {
      "text/plain": [
       "dict"
      ]
     },
     "execution_count": 109,
     "metadata": {},
     "output_type": "execute_result"
    }
   ],
   "source": [
    "d = {}\n",
    "d1 = dict()\n",
    "type(d1)"
   ]
  },
  {
   "cell_type": "code",
   "execution_count": 111,
   "id": "a282f8f2",
   "metadata": {
    "ExecuteTime": {
     "end_time": "2023-02-01T11:38:24.357701Z",
     "start_time": "2023-02-01T11:38:24.340253Z"
    }
   },
   "outputs": [
    {
     "data": {
      "text/plain": [
       "{'A': 100, 'B': 200, 'C': 300}"
      ]
     },
     "execution_count": 111,
     "metadata": {},
     "output_type": "execute_result"
    }
   ],
   "source": [
    "d = {'A':100,'B':200,'C':300}\n",
    "d"
   ]
  },
  {
   "cell_type": "code",
   "execution_count": null,
   "id": "5639636a",
   "metadata": {
    "ExecuteTime": {
     "end_time": "2023-01-30T16:28:26.252454Z",
     "start_time": "2023-01-30T16:28:26.236403Z"
    }
   },
   "outputs": [],
   "source": [
    "#get"
   ]
  },
  {
   "cell_type": "code",
   "execution_count": 113,
   "id": "2cfa72e3",
   "metadata": {
    "ExecuteTime": {
     "end_time": "2023-02-01T11:39:21.612695Z",
     "start_time": "2023-02-01T11:39:21.597666Z"
    }
   },
   "outputs": [
    {
     "data": {
      "text/plain": [
       "100"
      ]
     },
     "execution_count": 113,
     "metadata": {},
     "output_type": "execute_result"
    }
   ],
   "source": [
    "d.get('A')"
   ]
  },
  {
   "cell_type": "code",
   "execution_count": 114,
   "id": "11d4036b",
   "metadata": {
    "ExecuteTime": {
     "end_time": "2023-02-01T11:39:39.710248Z",
     "start_time": "2023-02-01T11:39:39.697555Z"
    }
   },
   "outputs": [
    {
     "data": {
      "text/plain": [
       "300"
      ]
     },
     "execution_count": 114,
     "metadata": {},
     "output_type": "execute_result"
    }
   ],
   "source": [
    "d.get('C')"
   ]
  },
  {
   "cell_type": "code",
   "execution_count": null,
   "id": "fdeec872",
   "metadata": {
    "ExecuteTime": {
     "end_time": "2023-01-30T16:28:26.268490Z",
     "start_time": "2023-01-30T16:28:26.252454Z"
    }
   },
   "outputs": [],
   "source": [
    "#items"
   ]
  },
  {
   "cell_type": "code",
   "execution_count": 115,
   "id": "300c3556",
   "metadata": {
    "ExecuteTime": {
     "end_time": "2023-02-01T11:39:45.825377Z",
     "start_time": "2023-02-01T11:39:45.808617Z"
    },
    "scrolled": false
   },
   "outputs": [
    {
     "data": {
      "text/plain": [
       "dict_items([('A', 100), ('B', 200), ('C', 300)])"
      ]
     },
     "execution_count": 115,
     "metadata": {},
     "output_type": "execute_result"
    }
   ],
   "source": [
    "d.items()"
   ]
  },
  {
   "cell_type": "code",
   "execution_count": null,
   "id": "65a60573",
   "metadata": {
    "ExecuteTime": {
     "end_time": "2023-01-30T16:28:26.284624Z",
     "start_time": "2023-01-30T16:28:26.268490Z"
    }
   },
   "outputs": [],
   "source": [
    "#keys"
   ]
  },
  {
   "cell_type": "code",
   "execution_count": 120,
   "id": "b7d5bcc1",
   "metadata": {
    "ExecuteTime": {
     "end_time": "2023-02-01T11:41:31.130920Z",
     "start_time": "2023-02-01T11:41:31.110721Z"
    }
   },
   "outputs": [
    {
     "data": {
      "text/plain": [
       "'A'"
      ]
     },
     "execution_count": 120,
     "metadata": {},
     "output_type": "execute_result"
    }
   ],
   "source": [
    "list(d.keys())[0]"
   ]
  },
  {
   "cell_type": "code",
   "execution_count": 121,
   "id": "093b715b",
   "metadata": {
    "ExecuteTime": {
     "end_time": "2023-02-01T11:42:20.450076Z",
     "start_time": "2023-02-01T11:42:20.442264Z"
    }
   },
   "outputs": [],
   "source": [
    "#Adding values in dictionary(update)\n",
    "d.update({'D':500})"
   ]
  },
  {
   "cell_type": "code",
   "execution_count": 122,
   "id": "d3f5e395",
   "metadata": {
    "ExecuteTime": {
     "end_time": "2023-02-01T11:42:22.420901Z",
     "start_time": "2023-02-01T11:42:22.400484Z"
    }
   },
   "outputs": [
    {
     "data": {
      "text/plain": [
       "{'A': 100, 'B': 200, 'C': 300, 'D': 500}"
      ]
     },
     "execution_count": 122,
     "metadata": {},
     "output_type": "execute_result"
    }
   ],
   "source": [
    "d"
   ]
  },
  {
   "cell_type": "code",
   "execution_count": null,
   "id": "116a2fd3",
   "metadata": {
    "ExecuteTime": {
     "end_time": "2023-01-30T16:28:26.564259Z",
     "start_time": "2023-01-30T16:28:26.564259Z"
    }
   },
   "outputs": [],
   "source": [
    "#pop"
   ]
  },
  {
   "cell_type": "code",
   "execution_count": 124,
   "id": "911dd6c1",
   "metadata": {
    "ExecuteTime": {
     "end_time": "2023-02-01T11:43:41.268890Z",
     "start_time": "2023-02-01T11:43:41.255146Z"
    }
   },
   "outputs": [
    {
     "data": {
      "text/plain": [
       "300"
      ]
     },
     "execution_count": 124,
     "metadata": {},
     "output_type": "execute_result"
    }
   ],
   "source": [
    "d.pop('C')"
   ]
  },
  {
   "cell_type": "code",
   "execution_count": 125,
   "id": "31f071b3",
   "metadata": {
    "ExecuteTime": {
     "end_time": "2023-02-01T11:43:57.479005Z",
     "start_time": "2023-02-01T11:43:57.462201Z"
    }
   },
   "outputs": [
    {
     "data": {
      "text/plain": [
       "{'A': 100, 'B': 200, 'D': 500}"
      ]
     },
     "execution_count": 125,
     "metadata": {},
     "output_type": "execute_result"
    }
   ],
   "source": [
    "d"
   ]
  },
  {
   "cell_type": "code",
   "execution_count": null,
   "id": "1e002393",
   "metadata": {
    "ExecuteTime": {
     "end_time": "2023-01-30T16:28:26.566772Z",
     "start_time": "2023-01-30T16:28:26.566772Z"
    }
   },
   "outputs": [],
   "source": [
    "#values"
   ]
  },
  {
   "cell_type": "code",
   "execution_count": 126,
   "id": "702021e4",
   "metadata": {
    "ExecuteTime": {
     "end_time": "2023-02-01T11:44:17.220623Z",
     "start_time": "2023-02-01T11:44:17.208701Z"
    }
   },
   "outputs": [
    {
     "data": {
      "text/plain": [
       "dict_values([100, 200, 500])"
      ]
     },
     "execution_count": 126,
     "metadata": {},
     "output_type": "execute_result"
    }
   ],
   "source": [
    "d.values()"
   ]
  },
  {
   "cell_type": "markdown",
   "id": "da0825b4",
   "metadata": {},
   "source": [
    "**Set**\n",
    "\n",
    "- Set is a collection which is unordered,unindexed.\n",
    "- Set is immutable.\n",
    "- Sets are unordered, so you cannot be sure in which order the items will appear.\n",
    "- Sets do not allow duplicate values.\n",
    "- Once a set is created, you cannot change its items, but you can remove items and add new items.\n",
    "- As sets are unordered, they do not support indexing and slicing operations."
   ]
  },
  {
   "cell_type": "code",
   "execution_count": 129,
   "id": "f77bace1",
   "metadata": {
    "ExecuteTime": {
     "end_time": "2023-02-01T11:47:40.666885Z",
     "start_time": "2023-02-01T11:47:40.654416Z"
    }
   },
   "outputs": [
    {
     "data": {
      "text/plain": [
       "{1, 2, 3, 4, 10.5}"
      ]
     },
     "execution_count": 129,
     "metadata": {},
     "output_type": "execute_result"
    }
   ],
   "source": [
    "#creating an empty set\n",
    "\n",
    "s = {1,2,3,4,10.5}\n",
    "s"
   ]
  },
  {
   "cell_type": "code",
   "execution_count": 130,
   "id": "d5c148cf",
   "metadata": {
    "ExecuteTime": {
     "end_time": "2023-02-01T11:48:27.455332Z",
     "start_time": "2023-02-01T11:48:27.449297Z"
    }
   },
   "outputs": [
    {
     "data": {
      "text/plain": [
       "{1, 2, 3, 4, 5}"
      ]
     },
     "execution_count": 130,
     "metadata": {},
     "output_type": "execute_result"
    }
   ],
   "source": [
    "#Does not allow duplicate items\n",
    "s = {1,1,2,3,4,5,5}\n",
    "s"
   ]
  },
  {
   "cell_type": "code",
   "execution_count": 132,
   "id": "037e0a3f",
   "metadata": {
    "ExecuteTime": {
     "end_time": "2023-02-01T11:49:18.420805Z",
     "start_time": "2023-02-01T11:49:18.407165Z"
    }
   },
   "outputs": [
    {
     "ename": "TypeError",
     "evalue": "'set' object is not subscriptable",
     "output_type": "error",
     "traceback": [
      "\u001b[1;31m---------------------------------------------------------------------------\u001b[0m",
      "\u001b[1;31mTypeError\u001b[0m                                 Traceback (most recent call last)",
      "\u001b[1;32m~\\AppData\\Local\\Temp\\ipykernel_53488\\2875943081.py\u001b[0m in \u001b[0;36m<module>\u001b[1;34m\u001b[0m\n\u001b[0;32m      1\u001b[0m \u001b[1;31m#Does not support indexing\u001b[0m\u001b[1;33m\u001b[0m\u001b[1;33m\u001b[0m\u001b[0m\n\u001b[1;32m----> 2\u001b[1;33m \u001b[0ms\u001b[0m\u001b[1;33m[\u001b[0m\u001b[1;36m2\u001b[0m\u001b[1;33m]\u001b[0m\u001b[1;33m\u001b[0m\u001b[1;33m\u001b[0m\u001b[0m\n\u001b[0m",
      "\u001b[1;31mTypeError\u001b[0m: 'set' object is not subscriptable"
     ]
    }
   ],
   "source": [
    "#Does not support indexing\n",
    "s[2]"
   ]
  },
  {
   "cell_type": "code",
   "execution_count": 133,
   "id": "8e54da96",
   "metadata": {
    "ExecuteTime": {
     "end_time": "2023-02-01T11:49:52.841990Z",
     "start_time": "2023-02-01T11:49:52.824706Z"
    }
   },
   "outputs": [
    {
     "data": {
      "text/plain": [
       "{1, 2, 3, 4, 5}"
      ]
     },
     "execution_count": 133,
     "metadata": {},
     "output_type": "execute_result"
    }
   ],
   "source": [
    "s"
   ]
  },
  {
   "cell_type": "code",
   "execution_count": 134,
   "id": "e982d040",
   "metadata": {
    "ExecuteTime": {
     "end_time": "2023-02-01T11:49:58.726288Z",
     "start_time": "2023-02-01T11:49:58.716783Z"
    }
   },
   "outputs": [
    {
     "data": {
      "text/plain": [
       "{1, 2, 3, 4, 5, 100}"
      ]
     },
     "execution_count": 134,
     "metadata": {},
     "output_type": "execute_result"
    }
   ],
   "source": [
    "#Add\n",
    "s.add(100)\n",
    "s"
   ]
  },
  {
   "cell_type": "code",
   "execution_count": 135,
   "id": "8c391c81",
   "metadata": {
    "ExecuteTime": {
     "end_time": "2023-02-01T11:50:50.129777Z",
     "start_time": "2023-02-01T11:50:50.112600Z"
    }
   },
   "outputs": [],
   "source": [
    "a = {'apple','mango','cherry'}\n",
    "b = {'microsoft','google','cherry'}"
   ]
  },
  {
   "cell_type": "code",
   "execution_count": null,
   "id": "9ce516fe",
   "metadata": {
    "ExecuteTime": {
     "end_time": "2023-01-30T16:28:26.580091Z",
     "start_time": "2023-01-30T16:28:26.580091Z"
    }
   },
   "outputs": [],
   "source": [
    "#Difference"
   ]
  },
  {
   "cell_type": "code",
   "execution_count": 136,
   "id": "49bae41c",
   "metadata": {
    "ExecuteTime": {
     "end_time": "2023-02-01T11:51:04.538201Z",
     "start_time": "2023-02-01T11:51:04.520635Z"
    }
   },
   "outputs": [
    {
     "data": {
      "text/plain": [
       "{'apple', 'mango'}"
      ]
     },
     "execution_count": 136,
     "metadata": {},
     "output_type": "execute_result"
    }
   ],
   "source": [
    "a.difference(b)"
   ]
  },
  {
   "cell_type": "code",
   "execution_count": 137,
   "id": "33654d08",
   "metadata": {
    "ExecuteTime": {
     "end_time": "2023-02-01T11:51:34.183706Z",
     "start_time": "2023-02-01T11:51:34.161811Z"
    }
   },
   "outputs": [
    {
     "data": {
      "text/plain": [
       "{'google', 'microsoft'}"
      ]
     },
     "execution_count": 137,
     "metadata": {},
     "output_type": "execute_result"
    }
   ],
   "source": [
    "b.difference(a)"
   ]
  },
  {
   "cell_type": "code",
   "execution_count": null,
   "id": "44760b14",
   "metadata": {
    "ExecuteTime": {
     "end_time": "2023-01-30T16:28:26.582437Z",
     "start_time": "2023-01-30T16:28:26.582437Z"
    }
   },
   "outputs": [],
   "source": [
    "#intersection"
   ]
  },
  {
   "cell_type": "code",
   "execution_count": 138,
   "id": "f6bf3700",
   "metadata": {
    "ExecuteTime": {
     "end_time": "2023-02-01T11:52:04.619648Z",
     "start_time": "2023-02-01T11:52:04.603767Z"
    }
   },
   "outputs": [
    {
     "data": {
      "text/plain": [
       "{'cherry'}"
      ]
     },
     "execution_count": 138,
     "metadata": {},
     "output_type": "execute_result"
    }
   ],
   "source": [
    "a.intersection(b)"
   ]
  },
  {
   "cell_type": "code",
   "execution_count": null,
   "id": "124bfbb4",
   "metadata": {
    "ExecuteTime": {
     "end_time": "2023-01-30T16:28:26.584680Z",
     "start_time": "2023-01-30T16:28:26.584680Z"
    }
   },
   "outputs": [],
   "source": [
    "#union"
   ]
  },
  {
   "cell_type": "code",
   "execution_count": 139,
   "id": "23441104",
   "metadata": {
    "ExecuteTime": {
     "end_time": "2023-02-01T11:52:32.386241Z",
     "start_time": "2023-02-01T11:52:32.369575Z"
    }
   },
   "outputs": [
    {
     "data": {
      "text/plain": [
       "{'apple', 'cherry', 'google', 'mango', 'microsoft'}"
      ]
     },
     "execution_count": 139,
     "metadata": {},
     "output_type": "execute_result"
    }
   ],
   "source": [
    "a.union(b)"
   ]
  },
  {
   "cell_type": "code",
   "execution_count": null,
   "id": "de5eded3",
   "metadata": {
    "ExecuteTime": {
     "end_time": "2023-01-30T16:28:26.585680Z",
     "start_time": "2023-01-30T16:28:26.585680Z"
    }
   },
   "outputs": [],
   "source": [
    "#pop"
   ]
  },
  {
   "cell_type": "code",
   "execution_count": 140,
   "id": "a7c2f0aa",
   "metadata": {
    "ExecuteTime": {
     "end_time": "2023-02-01T11:52:50.018753Z",
     "start_time": "2023-02-01T11:52:50.005204Z"
    }
   },
   "outputs": [
    {
     "data": {
      "text/plain": [
       "1"
      ]
     },
     "execution_count": 140,
     "metadata": {},
     "output_type": "execute_result"
    }
   ],
   "source": [
    "s.pop()"
   ]
  },
  {
   "cell_type": "code",
   "execution_count": null,
   "id": "7560c068",
   "metadata": {},
   "outputs": [],
   "source": []
  }
 ],
 "metadata": {
  "_draft": {
   "nbviewer_url": "https://gist.github.com/c7e48d2b0f85e662ce272c77589a4f43"
  },
  "gist": {
   "data": {
    "description": "ExcelR/Python_Basics.ipynb",
    "public": true
   },
   "id": "c7e48d2b0f85e662ce272c77589a4f43"
  },
  "kernelspec": {
   "display_name": "Python 3 (ipykernel)",
   "language": "python",
   "name": "python3"
  },
  "language_info": {
   "codemirror_mode": {
    "name": "ipython",
    "version": 3
   },
   "file_extension": ".py",
   "mimetype": "text/x-python",
   "name": "python",
   "nbconvert_exporter": "python",
   "pygments_lexer": "ipython3",
   "version": "3.9.13"
  }
 },
 "nbformat": 4,
 "nbformat_minor": 5
}
