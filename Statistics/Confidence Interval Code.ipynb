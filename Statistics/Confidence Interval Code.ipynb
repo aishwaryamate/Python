{
 "cells": [
  {
   "cell_type": "code",
   "execution_count": 1,
   "id": "5c2f8cf2",
   "metadata": {
    "ExecuteTime": {
     "end_time": "2023-10-23T04:49:27.186004Z",
     "start_time": "2023-10-23T04:49:24.728274Z"
    }
   },
   "outputs": [],
   "source": [
    "from scipy import stats\n",
    "import numpy as np"
   ]
  },
  {
   "cell_type": "code",
   "execution_count": 2,
   "id": "09b6befb",
   "metadata": {
    "ExecuteTime": {
     "end_time": "2023-10-23T04:49:35.977589Z",
     "start_time": "2023-10-23T04:49:35.910087Z"
    }
   },
   "outputs": [
    {
     "data": {
      "text/plain": [
       "1.959963984540054"
      ]
     },
     "execution_count": 2,
     "metadata": {},
     "output_type": "execute_result"
    }
   ],
   "source": [
    "stats.norm.ppf(0.975)"
   ]
  },
  {
   "cell_type": "code",
   "execution_count": 3,
   "id": "09d6152b",
   "metadata": {
    "ExecuteTime": {
     "end_time": "2023-10-23T04:49:44.835968Z",
     "start_time": "2023-10-23T04:49:44.788061Z"
    }
   },
   "outputs": [
    {
     "data": {
      "text/plain": [
       "1.977177724476122"
      ]
     },
     "execution_count": 3,
     "metadata": {},
     "output_type": "execute_result"
    }
   ],
   "source": [
    "stats.t.ppf(0.975,139)"
   ]
  },
  {
   "cell_type": "code",
   "execution_count": 4,
   "id": "68b7c231",
   "metadata": {
    "ExecuteTime": {
     "end_time": "2023-10-23T04:51:32.822867Z",
     "start_time": "2023-10-23T04:51:32.812384Z"
    }
   },
   "outputs": [
    {
     "data": {
      "text/plain": [
       "(1575.8820248378292, 2404.1179751621708)"
      ]
     },
     "execution_count": 4,
     "metadata": {},
     "output_type": "execute_result"
    }
   ],
   "source": [
    "#Z method\n",
    "\n",
    "stats.norm.interval(0.95,1990,2500/np.sqrt(140))"
   ]
  },
  {
   "cell_type": "code",
   "execution_count": 5,
   "id": "b96cc147",
   "metadata": {
    "ExecuteTime": {
     "end_time": "2023-10-23T04:52:52.266163Z",
     "start_time": "2023-10-23T04:52:52.249112Z"
    }
   },
   "outputs": [
    {
     "data": {
      "text/plain": [
       "(1516.5999869168315, 2463.4000130831682)"
      ]
     },
     "execution_count": 5,
     "metadata": {},
     "output_type": "execute_result"
    }
   ],
   "source": [
    "# T method\n",
    "stats.t.interval(0.95,df = 139, loc = 1990,scale = 2833/np.sqrt(140))"
   ]
  },
  {
   "cell_type": "code",
   "execution_count": null,
   "id": "d964ae1f",
   "metadata": {},
   "outputs": [],
   "source": []
  }
 ],
 "metadata": {
  "kernelspec": {
   "display_name": "Python 3 (ipykernel)",
   "language": "python",
   "name": "python3"
  },
  "language_info": {
   "codemirror_mode": {
    "name": "ipython",
    "version": 3
   },
   "file_extension": ".py",
   "mimetype": "text/x-python",
   "name": "python",
   "nbconvert_exporter": "python",
   "pygments_lexer": "ipython3",
   "version": "3.9.13"
  }
 },
 "nbformat": 4,
 "nbformat_minor": 5
}
